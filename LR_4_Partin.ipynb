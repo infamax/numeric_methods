{
 "cells": [
  {
   "cell_type": "markdown",
   "id": "66dc12ec",
   "metadata": {},
   "source": [
    "# Лабораторная работа 4\n",
    "## Партин М. Ю\n",
    "## А-13а-20\n",
    "### Вариант 17"
   ]
  },
  {
   "cell_type": "markdown",
   "id": "38e8c848",
   "metadata": {},
   "source": [
    "## Задание 4.1"
   ]
  },
  {
   "cell_type": "markdown",
   "id": "64261591",
   "metadata": {},
   "source": [
    "В таблице  4.1  приведены данные о численности населения некоторых крупнейших стран мира по годам с 1950 -2020 г.г. На основе этих данных построить наилучший многочлен  по МНК. Найти численность  населения страны  в 2019 году  и сравнить полученное значение  с актуальным значением  (взять из интернета)."
   ]
  },
  {
   "cell_type": "markdown",
   "id": "476aaf36",
   "metadata": {},
   "source": [
    "Сама таблица \n",
    "\n",
    "Страна | 1950 | 1960 | 1970 | 1980 | 1990 | 2000 | 2010 | 2020\n",
    "--- | --- | --- | --- | --- | --- | --- | --- | --- |\n",
    "Австралия | 8.2 | 10 | 13 | 14.7 | 17 | 19.5 | 22.03 | 25.69"
   ]
  },
  {
   "cell_type": "markdown",
   "id": "07b4a0d8",
   "metadata": {},
   "source": [
    "Необходимые библиотеки для решения"
   ]
  },
  {
   "cell_type": "code",
   "execution_count": 1,
   "id": "ffc7ef4b",
   "metadata": {},
   "outputs": [],
   "source": [
    "import numpy as np\n",
    "import matplotlib.pyplot as plt \n",
    "import math"
   ]
  },
  {
   "cell_type": "markdown",
   "id": "6f17d012",
   "metadata": {},
   "source": [
    "## МНК"
   ]
  },
  {
   "cell_type": "markdown",
   "id": "52fdecf7",
   "metadata": {},
   "source": [
    "Напишем теорию по методу наименьших квадратов (МНК). \n",
    "Пусть нам заданы узлы $x_i$ и значения в эти узлах $y_i$ i = 0, 1, ... n\n",
    "\n",
    "Пусть также нам задан некоторый набор базисных функций, состоящий из m функций\n",
    "$ \\varphi_0(x), \\varphi_1(x), \\varphi_2(x), ... , \\varphi_n(x) $\n",
    "\n",
    "И мы будем приближать функцию обобщенным многочленом\n",
    "\n",
    "$ \\Phi_m(x) = a_0 \\cdot \\varphi_0(x) + a_1 \\cdot \\varphi_1(x) + \\dots + a_n \\cdot \\varphi_n(x) $\n",
    "\n",
    "На функцию $ \\Phi_m(x) $ налагаются следующие требования $ \\Phi_m(x) \\approx y_i $ i = 0, ... , n\n",
    "\n",
    "Напишем подробнее, что означает приближеное равенство. Введем величину среднеквадратичного отклонения $ \\sigma $\n",
    "\n",
    "$ \\sigma = \\sqrt{\\frac{1}{n + 1} \\sum\\limits_{i=0}^n (\\Phi_m(x_i) - y_i)^2} $\n",
    "\n",
    "Наша задача найти минимальное значение $ \\sigma $ при заданном наборе базисных функций"
   ]
  },
  {
   "cell_type": "markdown",
   "id": "12590a19",
   "metadata": {},
   "source": [
    "Согласно общей теории многочлен наилучшего среднеквадратичного отклонения существует и единственен, если\n",
    "выполнены условие, что система функции $ \\varphi_0(x), \\varphi_1(x), \\varphi_2(x), ... , \\varphi_n(x) $ линейна\n",
    "независима в точках $ x_0, x_1, x_2, ... x_n $\n",
    "\n",
    "\n",
    "И его можно найти следующим образом. Возведем $ \\sigma  $ в квадрат. \n",
    "Тогда получим следующее выражение\n",
    "\n",
    "$ \\sigma^2 = \\frac{1}{n + 1} \\sum\\limits_{i=0}^n (\\Phi_m(x_i) - y_i)^2 $"
   ]
  },
  {
   "cell_type": "markdown",
   "id": "c5352cb5",
   "metadata": {},
   "source": [
    "Введем обозначение $ S = \\sum\\limits_{i=0}^n (\\Phi_m(x_i) - y_i)^2  $. Очевидно, чтобы найти минимум $ \\sigma $ надо найти\n",
    "минимум $ S $. Чтобы найти минимум S воспользуемся условием экстремума функции нескольких переменных. Приравняем все частные\n",
    "производные по $a_k$ к нулю. Тем самым мы найдем нужные значения $ a_k $. Распишем это более подробно "
   ]
  },
  {
   "cell_type": "markdown",
   "id": "a3c5734f",
   "metadata": {},
   "source": [
    "$$ \\frac{\\partial S}{\\partial a_k} = 0 $$ k =  0, ... m. Продифференцировав функцию по переменной  $a_k$ мы получим следующее \n",
    "выражение\n",
    "\n",
    "$$ \\sum\\limits_{i=0}^n { 2 \\sum\\limits_{j=0}^m {(a_j \\varphi_j(x_i) - y_i)} \\varphi_k(x_i)} $$\n",
    "\n",
    "Приравняв его к нулю и раскрыв скобки можно прийти к следующему выражению\n"
   ]
  },
  {
   "cell_type": "markdown",
   "id": "5971c514",
   "metadata": {},
   "source": [
    "$$ \\sum\\limits_{j=0}^m{ \\left( \\sum\\limits_{i=0}^n{\\varphi_j(x_i) \\varphi_k(x_i) } \\right) a_j} \n",
    "    = \\sum\\limits_{i=0}^n {y_i \\varphi_k(x_i)}\n",
    "$$\n",
    "\n",
    "k = 0, ... m\n",
    "\n",
    "Введем обозначение \n",
    "\n",
    "$ M_{k, j} = \\sum\\limits_{i=0}^n{\\varphi_j(x_i) \\varphi_k(x_i)} $\n",
    "\n",
    "$ b_k = \\sum\\limits_{i=0}^n{y_i \\varphi_k(x_i)} $\n",
    "\n",
    "Тогда получим следующую систему уравнений $ Ma = b $\n",
    "\n",
    "Решив ее мы найдем нужные значения коээфициентов $ a_k $ k = 0, ..., m\n",
    "\n",
    "Решать систему мы будем методом Гаусса по схеме частичного выбора.\n",
    "\n",
    "Теперь напишем необходимый код"
   ]
  },
  {
   "cell_type": "markdown",
   "id": "44986ac5",
   "metadata": {},
   "source": [
    "Код для решения системы"
   ]
  },
  {
   "cell_type": "code",
   "execution_count": 2,
   "id": "4351c3ff",
   "metadata": {},
   "outputs": [],
   "source": [
    "# Находим максимум по модулю в столбце\n",
    "def MaxElementInRow(A, k):  \n",
    "    max_item = abs(A[k][k])\n",
    "    n = A.shape[0]\n",
    "    for i in range(k + 1, n):\n",
    "        if abs(A[i][k]) > max_item:\n",
    "            max_item = abs(A[i][k])\n",
    "         \n",
    "    # При выходе из функции возвращаем номер строки, в которой был найден максимальный элемент\n",
    "    # и сам этот элемент\n",
    "    for i in range(k, n):\n",
    "        if abs(A[i][k]) == max_item:\n",
    "            return i\n",
    "\n",
    "# Прямой ход метода Гаууса\n",
    "def ForwardStrake(A, b):\n",
    "    n = A.shape[0]\n",
    "    for k in range(n - 1):\n",
    "        max_row = MaxElementInRow(A, k)\n",
    "        # Меняем строки местами\n",
    "        tmp = A[max_row].copy()\n",
    "        A[max_row] = A[k]\n",
    "        A[k] = tmp\n",
    "        tmp = b[max_row].copy()\n",
    "        b[max_row] = b[k]\n",
    "        b[k] = tmp\n",
    "        for i in range(k + 1, n):\n",
    "            mu_i_k = A[i][k] / A[k][k]\n",
    "            for j in range(k, n):\n",
    "                A[i][j] -= (mu_i_k * A[k][j])\n",
    "            b[i] -= (b[k] * mu_i_k)   \n",
    "    return A, b\n",
    "\n",
    "# Обратный ход метода Гаууса\n",
    "def BackStrake(A, b):\n",
    "    n = A.shape[0]\n",
    "    x = np.zeros(n)\n",
    "    x[n - 1] = b[n - 1] / A[n - 1][n - 1]\n",
    "    for i in range(n - 2, -1, -1):\n",
    "        s = b[i]\n",
    "        for j in range(n - 1, i, -1):\n",
    "            s -= (A[i][j] * x[j])\n",
    "        x[i] = s / A[i][i]\n",
    "    return x\n",
    "\n",
    "# Метод Гаусса реализация схемы частичного выбора\n",
    "def MethodGauss(A, b):\n",
    "    A, b = ForwardStrake(A, b)\n",
    "    x = BackStrake(A, b)\n",
    "    return x"
   ]
  },
  {
   "cell_type": "markdown",
   "id": "b52e7419",
   "metadata": {},
   "source": [
    "Код самого метода наименьших квадратов"
   ]
  },
  {
   "cell_type": "code",
   "execution_count": 3,
   "id": "8f69c350",
   "metadata": {},
   "outputs": [],
   "source": [
    "# Получение матрицы M\n",
    "def GenerateM(x, phi, n, m):\n",
    "    M = np.ones((m, m))\n",
    "    for k in range(m):\n",
    "        for j in range(m):\n",
    "            M[k][j] = 0\n",
    "            for i in range(n):\n",
    "                M[k][j] += phi[j](x[i]) * phi[k](x[i]) \n",
    "    return M\n",
    "\n",
    "# Получение вектора b\n",
    "def GenerateB(x, y, phi, n, m):\n",
    "    b = np.zeros(m)\n",
    "    for k in range(m):\n",
    "        b[k] = 0\n",
    "        for i in range(n):\n",
    "            b[k] += y[i] * phi[k](x[i])\n",
    "    return b\n",
    "\n",
    "# Сам метод МНК\n",
    "def MNK(t, x, y, phi, n, m):\n",
    "    # 1 шаг решаем систему и получаем значения коэффициентов a\n",
    "    M = GenerateM(x, phi, n, m)\n",
    "    b = GenerateB(x, y, phi, n, m)\n",
    "    a = MethodGauss(M, b)\n",
    "    # 2 Шаг считаем значение в нужной точке \n",
    "    res = 0\n",
    "    for i in range(m):\n",
    "        res += a[i] * phi[i](t)\n",
    "    return res"
   ]
  },
  {
   "cell_type": "markdown",
   "id": "e44ec8f7",
   "metadata": {},
   "source": [
    "Для простоты зададим степенной базис функций\n",
    "$ \\varphi_0(x) = 1, \\varphi_1(x) = x, \\varphi_2(x) = x^2, \\varphi_3(x) = x^3,  \\varphi_4(x) = x^4, \\varphi_5(x) = x^5, \n",
    "    \\varphi_6(x) = x^6, \\varphi_7(x) = x^7 $\n",
    "    \n",
    "Напишем все необходимые входные параметры для метода"
   ]
  },
  {
   "cell_type": "code",
   "execution_count": 4,
   "id": "26415e26",
   "metadata": {},
   "outputs": [],
   "source": [
    "x = np.array([1950, 1960, 1970, 1980, 1990, 2000, 2010, 2020], dtype = 'float64')\n",
    "y = np.array([8.2, 10.0, 13.0, 14.7, 17, 19.5, 22.03, 25.69], dtype = 'float64')\n",
    "n = x.shape[0]\n",
    "m = n\n",
    "phi = np.array ([\n",
    "    lambda x: 1,\n",
    "    lambda x: x,\n",
    "    lambda x: x**2,\n",
    "    lambda x: x**3,\n",
    "    lambda x: x**4,\n",
    "    lambda x: x**5,\n",
    "    lambda x: x**6,\n",
    "    lambda x: x**7,\n",
    "])"
   ]
  },
  {
   "cell_type": "markdown",
   "id": "ad19c148",
   "metadata": {},
   "source": [
    "Теперь выведем значение населения Австралии получение с помощью МНК и сравним с реальным"
   ]
  },
  {
   "cell_type": "code",
   "execution_count": 5,
   "id": "9757fda4",
   "metadata": {},
   "outputs": [
    {
     "name": "stdout",
     "output_type": "stream",
     "text": [
      "Вычисление значение население Австралии в 2019 году, используя МНК =  24.92005893960595\n"
     ]
    }
   ],
   "source": [
    "print(\"Вычисление значение население Австралии в 2019 году, используя МНК = \", MNK(2019, x, y, phi, n, m))"
   ]
  },
  {
   "cell_type": "markdown",
   "id": "0188e167",
   "metadata": {},
   "source": [
    "Реальное значение население Австралии в 2019 году 25,37 млн человек. А мы получили на основе многочлена 25 млн человек приблизительно"
   ]
  },
  {
   "cell_type": "markdown",
   "id": "876ce39d",
   "metadata": {},
   "source": [
    "## Интерполяционный многочлен"
   ]
  },
  {
   "cell_type": "markdown",
   "id": "382f1ac9",
   "metadata": {},
   "source": [
    "Решить ту же  задачу на основе интерполяционного многочлена.  То есть построить интерполяционный многочлен по значениям с 1950-2020 г.г. Вычислить значение  для 2019 года и сравнить с актуальными данными."
   ]
  },
  {
   "cell_type": "markdown",
   "id": "86b0b599",
   "metadata": {},
   "source": [
    "По данным из таблицы видно, что они идут с равным шагом равным 10. Поэтому удобно применить для построения многочлена - интерполяционный многочлен Ньютона с конечными разностями.\n",
    "\n",
    "Напишем краткую теорию по данному методу \n",
    "\n",
    "Пусть для любого узла выполнено следующей условие $ x_{i + 1} - x_{i} = h; $ $ \\forall i $ \n",
    "\n",
    "Тогда можно ввести понятие конечной разности. Оно определяется рекуреннтно следующим образом\n",
    "\n",
    "$ \\Delta f_i = f_{i + 1} - f_i $ - конечная разность первого порядка\n",
    "\n",
    "$ \\Delta^{k} f_i = \\Delta^{k - 1} f_{i + 1} - \\Delta^{k - 1} f_i $\n",
    "\n",
    "Тогда интеполяционный многочлен может быть записан следующим образом \n",
    "\n",
    "$ P_n(x) = f_0 + \\frac{\\Delta f_0}{1! h} (x - x_0) + \\frac{\\Delta^2 f_0}{2! h^2} (x - x_0) (x - x_1) + ... +  \\frac{\\Delta^n f_0}{n! h^n} (x - x_0) (x - x_1) ... (x - x_{n - 1}) $"
   ]
  },
  {
   "cell_type": "markdown",
   "id": "05d5826c",
   "metadata": {},
   "source": [
    "Теперь следует понять как эффективно можно вычислять конечные разности. \n",
    "Так как делать это рекурсивно, не самый эффективный способ\n",
    "\n",
    "Можно воспользоваться методом динамического программирования. То есть заведем двумерный массив dp[i][j]. Где i - это номер конечной разности, а j - ее порядок. База динамики это $ dp[i][0] = y_i $\n",
    "\n",
    "Тогда имеем следующую расчетную формула имеет следующий вид $ dp[i][j] = dp[i + 1][j - 1] - dp[i][j - 1] $\n",
    "\n",
    "Теперь имея весь необходимый материал напишем код метода"
   ]
  },
  {
   "cell_type": "code",
   "execution_count": 6,
   "id": "da2a7c82",
   "metadata": {},
   "outputs": [],
   "source": [
    "# Функция для заполнения массива динамики\n",
    "def FillDynamic(y, n):\n",
    "    dp = np.eye(n)\n",
    "    for i in range(n):\n",
    "        dp[i][0] = y[i]\n",
    "    for j in range(1, n):\n",
    "        for i in range(n - j):\n",
    "            dp[i][j] = dp[i + 1][j - 1] - dp[i][j - 1]\n",
    "    return dp\n",
    "\n",
    "# Функция для вычисления многочлена Ньютона с разделенными разностями\n",
    "def polynomNewton(t, x, y, h, n):\n",
    "    dp = FillDynamic(y, n)\n",
    "    sum = y[0]\n",
    "    for i in range(1, n):\n",
    "        p = dp[0][i] / (math.factorial(i) * h**i)\n",
    "        for j in range(i):\n",
    "            p *= (t - x[j])\n",
    "        sum += p\n",
    "    return sum"
   ]
  },
  {
   "cell_type": "markdown",
   "id": "1e97cf35",
   "metadata": {},
   "source": [
    "Теперь зададим входные массивы"
   ]
  },
  {
   "cell_type": "code",
   "execution_count": 7,
   "id": "33cf0703",
   "metadata": {},
   "outputs": [],
   "source": [
    "x = np.array([1950, 1960, 1970, 1980, 1990, 2000, 2010, 2020])\n",
    "y = np.array([8.2, 10.0, 13.0, 14.7, 17, 19.5, 22.03, 25.69])\n",
    "h = 10 # Шаг\n",
    "n = x.shape[0]"
   ]
  },
  {
   "cell_type": "markdown",
   "id": "ac074792",
   "metadata": {},
   "source": [
    "Входные данные необходимые алгоритму заданы.\n",
    "Теперь можно вычислить значения населения в Австралии в 2019 году по нашему алгоритму"
   ]
  },
  {
   "cell_type": "code",
   "execution_count": 8,
   "id": "994596e4",
   "metadata": {},
   "outputs": [
    {
     "name": "stdout",
     "output_type": "stream",
     "text": [
      "Интерполяциооный многочлен значения населения в 2019 году =  25.337333027425025\n"
     ]
    }
   ],
   "source": [
    "print(\"Интерполяциооный многочлен значения населения в 2019 году = \", polynomNewton(2019, x, y, h, n))"
   ]
  },
  {
   "cell_type": "markdown",
   "id": "7095df87",
   "metadata": {},
   "source": [
    "Реальное значение население Австралии в 2019 году 25,37 млн человек. А мы получили на основе многочлена 25,34 млн человек. \n",
    "\n",
    "**Вывод:** Следовательно интерполяционый многочлен дает достаточно неплохие результаты на отрезке интерполяции и его можно применять для решения различных задач, такие как прогнозирование население и тому подобные. Также показанные вычисления показали разную природу МНК и интерполяционного многочлена. И то что каждый из них хорошо в своих случаях. МНК следует использовать когда мы работаем с приближенными данными, например результаты измерения приборов и тому подобное. "
   ]
  },
  {
   "cell_type": "markdown",
   "id": "f809e59b",
   "metadata": {},
   "source": [
    "## Задание 4.2"
   ]
  },
  {
   "cell_type": "markdown",
   "id": "a400ead6",
   "metadata": {},
   "source": [
    "Дана функция  $f(x)$. Приблизить функцию  методом интерполяции, используя многочлен Лагранжа $L_n(x)$ . Степень многочлена N подобрать таким образом, чтобы максимальная величина погрешности на отрезке $ [a, b] $ не превышала заданной величины  Построить графики многочленов и графики погрешностей .Приблизить функцию  методом интерполяции, указанным в  индивидуальном варианте. Сравнить полученные результаты. "
   ]
  },
  {
   "cell_type": "markdown",
   "id": "9fe206c5",
   "metadata": {},
   "source": [
    "Заданная функция $ f(x) = 8 e^x \\cos{x^2} $, заданный отрезок $ [a, b] = [1.3, 7.5] $, заданная точность $ \\varepsilon = 0.05 $"
   ]
  },
  {
   "cell_type": "markdown",
   "id": "03671914",
   "metadata": {},
   "source": [
    "Для начала зададим саму функцию, отрезок на котором она задана и заданную точность "
   ]
  },
  {
   "cell_type": "code",
   "execution_count": 9,
   "id": "7dfb5c5c",
   "metadata": {},
   "outputs": [],
   "source": [
    "# Сама функция \n",
    "def f(x):\n",
    "    return 8 * np.exp(x) * np.cos(x**2)\n",
    "\n",
    "# Отрезок\n",
    "a = 1.3\n",
    "b = 7.5\n",
    "\n",
    "# Точность \n",
    "eps = 0.05"
   ]
  },
  {
   "cell_type": "markdown",
   "id": "977eb190",
   "metadata": {},
   "source": [
    "## Интерполяциооный многочлен Лагранжа"
   ]
  },
  {
   "cell_type": "markdown",
   "id": "f3650619",
   "metadata": {},
   "source": [
    "Теперь зададим необходимые функции для построения многочлена Лагранжа. Напишем краткую теоретическую справку. \n",
    "\n",
    "Чтобы построить интерполяционный многочлен в форме Лагранжа необходимо задать базисные полиномы $l_{ni}(x)$. Они вычисляются по формуле\n",
    "\n",
    "$$  l_{ni}(x) = \\prod\\limits_{k = 0, k \\neq i}^n{\\frac{x - x_k}{x_i - x_k}} $$\n",
    "\n",
    "Далее сам многочлен Лагранжа $L_n(x)$ задается следующей формулой \n",
    "\n",
    "$$ L_n(x) = \\sum\\limits_{i=0}^n {y_i l_{ni}(x)} $$\n",
    "\n",
    "Зададим заданные формулы в коде"
   ]
  },
  {
   "cell_type": "code",
   "execution_count": 10,
   "id": "d645d701",
   "metadata": {},
   "outputs": [],
   "source": [
    "# i - коээфициент в многочлене Лагранжа \n",
    "def coefLagrange(t, x, i):\n",
    "    coef = 1\n",
    "    n = x.shape[0]\n",
    "    for k in range(n):\n",
    "        if i != k:\n",
    "            coef *= (t - x[k]) / (x[i] - x[k])\n",
    "    return coef \n",
    "\n",
    "# сам многочлен Лагранжа\n",
    "def polynomLagrange(t, x, y):\n",
    "    n = x.shape[0]\n",
    "    res = 0\n",
    "    for i in range(n):\n",
    "        res += y[i] * coefLagrange(t, x, i)\n",
    "    return res"
   ]
  },
  {
   "cell_type": "markdown",
   "id": "c480393c",
   "metadata": {},
   "source": [
    "Теперь зададим для начала 5 начальных узла"
   ]
  },
  {
   "cell_type": "code",
   "execution_count": 11,
   "id": "7b39e3de",
   "metadata": {},
   "outputs": [],
   "source": [
    "x = np.array([\n",
    "    1.5, 2.5, 3.25, 4, 4.5\n",
    "])\n",
    "\n",
    "y = np.array([\n",
    "    f(1.5), f(2.5), f(3.25), f(4), f(4.5)\n",
    "])"
   ]
  },
  {
   "cell_type": "markdown",
   "id": "e587d648",
   "metadata": {},
   "source": [
    "Теперь зададим функцию для расчета погрешности многочлена Лагранжа"
   ]
  },
  {
   "cell_type": "code",
   "execution_count": 12,
   "id": "0452569d",
   "metadata": {},
   "outputs": [],
   "source": [
    "def LagrangeError(t, x, y):\n",
    "    return abs(f(t) - polynomLagrange(t, x, y))"
   ]
  },
  {
   "cell_type": "markdown",
   "id": "4045100e",
   "metadata": {},
   "source": [
    "Построим график погрешности интерполяции на заданном отрезке"
   ]
  },
  {
   "cell_type": "code",
   "execution_count": 13,
   "id": "5379bbe1",
   "metadata": {},
   "outputs": [
    {
     "data": {
      "text/plain": [
       "<matplotlib.legend.Legend at 0x270dc7af550>"
      ]
     },
     "execution_count": 13,
     "metadata": {},
     "output_type": "execute_result"
    },
    {
     "data": {
      "image/png": "[encoded data removed]",
      "text/plain": [
       "<Figure size 720x360 with 1 Axes>"
      ]
     },
     "metadata": {
      "needs_background": "light"
     },
     "output_type": "display_data"
    }
   ],
   "source": [
    "x_data = np.linspace(a, b, 10000, dtype = float)\n",
    "fig, axs = plt.subplots(1, 1, figsize=(10, 5))\n",
    "axs.plot(x_data, LagrangeError(x_data, x, y), label = '$ \\Delta = |f(x) - L_n(x)| $')\n",
    "axs.grid()\n",
    "axs.legend()"
   ]
  },
  {
   "cell_type": "markdown",
   "id": "208754f5",
   "metadata": {},
   "source": [
    "Имеем слишком большую погрешность начиная с $ x > 5 $. Максимальная величина погрешность больше 80000. Это связано с тем, что точки были выбраны на отрезке $ [1.5, 4.5] $. А отрезок на котором мы интерполируем функцию более большой, чем на котором были заданы точки. Поэтому необходимо добавить точки распределенные равномерно по всему отрезку. Сделаем это"
   ]
  },
  {
   "cell_type": "code",
   "execution_count": 14,
   "id": "77c51fcf",
   "metadata": {},
   "outputs": [],
   "source": [
    "# Равномерно выбранные точки на отрезке\n",
    "x = np.array([\n",
    "    1.3, 1.5, 1.7, 1.9, 2.1, 2.3, 2.5, 2.7, 2.9, 3.1, 3.3, 3.5, 3.7, 3.9, 4.1, 4.3, 4.5, 4.7, 4.9,\n",
    "    5.1, 5.3, 5.5, 5.7, 5.9, 6.1, 6.3, 6.5, 6.7, 6.9, 7.1, 7.3, 7.4, 7.5\n",
    "])\n",
    "\n",
    "y = np.array([\n",
    "    f(1.3), f(1.5), f(1.7), f(1.9), f(2.1), f(2.3), f(2.5), \n",
    "    f(2.7), f(2.9), f(3.1), f(3.3), f(3.5), f(3.7), f(3.9), \n",
    "    f(4.1), f(4.3), f(4.5), f(4.7), f(4.9), f(5.1), f(5.3), \n",
    "    f(5.5), f(5.7), f(5.9), f(6.1), f(6.3), f(6.5), f(6.7), \n",
    "    f(6.9), f(7.1), f(7.3), f(7.4), f(7.5)\n",
    "])"
   ]
  },
  {
   "cell_type": "markdown",
   "id": "61100493",
   "metadata": {},
   "source": [
    "Построим новый график погрешшностей"
   ]
  },
  {
   "cell_type": "code",
   "execution_count": 15,
   "id": "14e609e1",
   "metadata": {},
   "outputs": [
    {
     "data": {
      "text/plain": [
       "<matplotlib.legend.Legend at 0x270dcf97eb0>"
      ]
     },
     "execution_count": 15,
     "metadata": {},
     "output_type": "execute_result"
    },
    {
     "data": {
      "image/png": "[encoded data removed]",
      "text/plain": [
       "<Figure size 720x360 with 1 Axes>"
      ]
     },
     "metadata": {
      "needs_background": "light"
     },
     "output_type": "display_data"
    }
   ],
   "source": [
    "x_data = np.linspace(a, b, 10000, dtype = float)\n",
    "fig, axs = plt.subplots(1, 1, figsize=(10, 5))\n",
    "axs.plot(x_data, LagrangeError(x_data, x, y), label = '$ \\Delta = |f(x) - L_n(x)| $')\n",
    "axs.grid()\n",
    "axs.legend()"
   ]
  },
  {
   "cell_type": "markdown",
   "id": "74556e64",
   "metadata": {},
   "source": [
    "Мы смогли получить предъявляемую погрешность интерполяции\n",
    "\n",
    "**Вывод:** грамотный выбор точек влияет на величину погрешности интерполяции, кроме того увеличение числа точек также ее уменьшает"
   ]
  },
  {
   "cell_type": "markdown",
   "id": "fc2da76b",
   "metadata": {},
   "source": [
    "## Сплайн с отсутствием узла"
   ]
  },
  {
   "cell_type": "markdown",
   "id": "4ceae231",
   "metadata": {},
   "source": [
    "Теперь приблизим функцию сплайном с отсутсвием узла"
   ]
  },
  {
   "cell_type": "markdown",
   "id": "bfb4a763",
   "metadata": {},
   "source": [
    "Напишем необходимую теорию для реализации метода"
   ]
  },
  {
   "cell_type": "markdown",
   "id": "833db101",
   "metadata": {},
   "source": [
    "**Сплайн определение:** Пусть отрезок $ [a, b] $ разбит точками $ a = x_0 < x_1 < \\dots < x_n = b $ на $ n $\n",
    "частичных отрезков $ [x_{i - 1}, x_i] $. Сплайном степени $ m $ называется функция $ S_m(x) $, обладающая свойствами:\n",
    "\n",
    "- Функция $ S_m(x) $ непрерывна на отрезке $ [a, b] $ вместе со всеми производными $ S^{(1)}_m{x}, S^{(2)}_m{x}, \n",
    " \\dots S^{(p)}_m{x} $ до некоторого порядка $ p $\n",
    " \n",
    "- на каждом частичном отрезке $ [x_{i}, x_{i+1}] $ фунция $ S_m(x) $ совпадает с некоторым алгебраическим многочленом\n",
    " степени $ m $ $ P_{m, i}(x) $\n",
    "  \n",
    "  \n",
    "**Дефект сплайна:** разность между степенью сплайна и наивысшим порядком непрерывной на $ [a, b] $ производной \n",
    "функции $ S_m(x) $ $ m - p $\n",
    "\n",
    "На практике чаще всего применяют кубические сплайны"
   ]
  },
  {
   "cell_type": "markdown",
   "id": "a6f662c0",
   "metadata": {},
   "source": [
    "**Интерполяционный сплайн:** Сплайн $ S_m(x) $ называется интерполяционным, если $ S_m(x_i) = y_i $ $ \\forall i = 0, \\dots ,n $\n",
    "\n",
    "**Наклон сплайна:** Значение $ s_i = S^{\\prime}_m(x_i)$ называется наклоном сплайна в точке $ x_i $"
   ]
  },
  {
   "cell_type": "markdown",
   "id": "b0b3447f",
   "metadata": {},
   "source": [
    "Заметим, что на отрезке $ [x_{i - 1}, x_i] $ интерполяционный кубический сплайн определяется заданием значений \n",
    "$ y_{i - 1}, y_i, s_{i - 1}, s_i $\n",
    "\n",
    "Напишем данную формулу\n",
    "\n",
    "$$  P_{3, i}(x) = y_{i - 1} \\frac{\\left(x - x_i \\right)^2 \\left(2(x - x_{i - 1}) + h_i \\right)}{h^3_i}\n",
    " + y_i \\frac{\\left(x - x_{i - 1} \\right)^2 \\left(2(x_i - x) + h_i \\right)}{h^3_i}  + \n",
    "    s_{i - 1} \\frac{\\left(x - x_{i-1} \\right) \\left(x - x_i \\right)^2}{h^2_i} + \n",
    "    s_{i} \\frac{\\left(x - x_{i-1} \\right)^2 \\left(x - x_i \\right)}{h^2_i}$$"
   ]
  },
  {
   "cell_type": "markdown",
   "id": "9874fd92",
   "metadata": {},
   "source": [
    "где $ h_i = x_i - x_{i - 1} $"
   ]
  },
  {
   "cell_type": "markdown",
   "id": "1300f443",
   "metadata": {},
   "source": [
    "Таким образом надо выбрать наклоны $ s_i $"
   ]
  },
  {
   "cell_type": "markdown",
   "id": "edecafb7",
   "metadata": {},
   "source": [
    "Согласно общей теории мы можем прийти к следующей системе уравнений относительно $ s_i $\n",
    "\n",
    "$$ h_i^{-1} s_{i - 1} + 2 \\left(h_i^{-1} + h_{i + 1}^{-1} \\right) s_i + h_{i + 1}^{-1} s_{i + 1} = 3 \\left( h_i^{-2} (y_i - y_{i - 1}) +  h_{i+1}^{-2} (y_{i + 1} - y_{i}) \\right) $$ \n",
    "\n",
    "$ i = 1, 2, \\dots, n - 1$\n",
    "\n",
    "Эта система уравнений недоопределена. Так как число неизвестных $ n + 1$, а число уравнений $ n - 1 $\n",
    "\n",
    "Как раз один способов доопределения системы называется сплайном с отсутствием узла\n",
    "\n",
    "Записываем следующие два уравнения\n",
    "\n",
    "$$ h^{-2}_1 s_0  + ( h^{-2}_1 -  h^{-2}_2)s_1 - h^{-2}_2 s_2 = 2h_2^{-3}(y_1 - y_2) - 2h_1^{-3}(y_0 - y_1) $$\n",
    "\n",
    "$$ h^{-2}_{n - 1} s_{n - 2}  + ( h^{-2}_{n - 1} -  h^{-2}_n)s_{n - 1} - h^{-2}_n s_n = 2h_n^{-3}(y_{n - 1} - y_n) - 2h_{n - 1}^{-3}(y_{n - 2} - y_{n - 1}) $$\n",
    "\n",
    "Теперь имеем нужное число уравнений $ n + 1 $\n",
    "\n",
    "Напишем код метода\n",
    "\n",
    "Систему будем решать методом Гаусса"
   ]
  },
  {
   "cell_type": "code",
   "execution_count": 45,
   "id": "db90e49a",
   "metadata": {},
   "outputs": [],
   "source": [
    "def makeVectorH(x, n):\n",
    "    h = np.ones(n)\n",
    "    for i in range(1, n):\n",
    "        h[i] = x[i] - x[i - 1]\n",
    "    return h\n",
    "\n",
    "\n",
    "def makeSplineMatrix(h, n):\n",
    "    S = np.ones((n, n))\n",
    "    for i in range(1, n - 1):\n",
    "        S[i - 1][i - 1] = h[i]**(-1)\n",
    "        S[i - 1][i] = 2 * (h[i]**(-1) + h[i + 1]**(-1)) \n",
    "        S[i - 1][i + 1] = h[i + 1]**(-1)\n",
    "    S[n - 2][0] = h[1]**(-2)\n",
    "    S[n - 2][1] = h[1]**(-2) - h[2]**(-2)\n",
    "    S[n - 2][2] = -h[2]**(-2)\n",
    "    S[n - 1][n - 3] = h[n - 2]**(-2)\n",
    "    S[n - 1][n - 2] = h[n - 2]**(-2) - h[n - 1]**(-2)\n",
    "    S[n - 1][n - 1] = -h[n - 1]**(-2)\n",
    "    return S\n",
    "\n",
    "def makeSplineVector(y, h, n):\n",
    "    v = np.ones(n)\n",
    "    for i in range(1, n - 1):\n",
    "        v[i - 1] = 3 * (h[i]**(-2) * (y[i] - y[i - 1]) + h[i + 1]**(-2)*(y[i + 1] - y[i]))\n",
    "    v[n - 2] = 2 * h[2]**(-3) * (y[1] - y[2]) - 2 * h[1]**(-3)*(y[0] - y[1])\n",
    "    v[n - 1] =  2 * h[n - 1]**(-3) * (y[n - 2] - y[n - 1]) - 2 * h[n - 2]**(-3)*(y[n - 3] - y[n - 2])\n",
    "    return v\n",
    "\n",
    "def calculateSpline(t, x, y):\n",
    "    n = x.shape[0]\n",
    "    h = makeVectorH(x, n)\n",
    "    A = makeSplineMatrix(h, n)\n",
    "    b = makeSplineVector(y, h, n)\n",
    "    s = MethodGauss(A, b)\n",
    "    i = 0\n",
    "    for j in range(1, n):\n",
    "        if t >= x[j - 1] and t <= x[j]:\n",
    "            i = j\n",
    "            break\n",
    "    return y[i - 1] * ((t - x[i])**2 * (2 * (t - x[i - 1]) + h[i]))/(h[i]**3) + y[i] * ((t - x[i - 1])**2 * (2 * (x[i] - t) + h[i]))/(h[i]**3) + s[i - 1] * ((t - x[i - 1]) * (t - x[i])**2)/(h[i]**2) + s[i] * ((t - x[i - 1])**2 * (t - x[i])) / (h[i]**2)"
   ]
  },
  {
   "cell_type": "markdown",
   "id": "cbc7fab9",
   "metadata": {},
   "source": [
    "Теперь напишем необходимые точки"
   ]
  },
  {
   "cell_type": "code",
   "execution_count": 49,
   "id": "1ec71dee",
   "metadata": {},
   "outputs": [],
   "source": [
    "n = 18\n",
    "x = np.ones(n)\n",
    "y = np.ones(n)\n",
    "step = (b - a) / n \n",
    "start = a\n",
    "for i in range(n):\n",
    "    x[i] = start\n",
    "    y[i] = f(x[i])\n",
    "    start += step"
   ]
  },
  {
   "cell_type": "markdown",
   "id": "4b89502d",
   "metadata": {},
   "source": [
    "Построим график погрешности метода"
   ]
  },
  {
   "cell_type": "code",
   "execution_count": 50,
   "id": "1aab42fb",
   "metadata": {},
   "outputs": [],
   "source": [
    "# Абсолютная погрешность метода\n",
    "def splineError(t, x, y):\n",
    "    return abs(f(t) - calculateSpline(t, x, y))"
   ]
  },
  {
   "cell_type": "code",
   "execution_count": 51,
   "id": "93640ef3",
   "metadata": {},
   "outputs": [
    {
     "data": {
      "text/plain": [
       "<matplotlib.legend.Legend at 0x270df6e5460>"
      ]
     },
     "execution_count": 51,
     "metadata": {},
     "output_type": "execute_result"
    },
    {
     "data": {
      "image/png": "[encoded data removed]",
      "text/plain": [
       "<Figure size 720x360 with 1 Axes>"
      ]
     },
     "metadata": {
      "needs_background": "light"
     },
     "output_type": "display_data"
    }
   ],
   "source": [
    "x_data = np.linspace(a, b, 100)\n",
    "f_main = f(x_data)\n",
    "f_spline = [calculateSpline(i, x, y) for i in x_data]\n",
    "fig, axs = plt.subplots(1, 1, figsize=(10, 5))\n",
    "axs.plot(x_data,  np.abs(f_main - f_spline), label = '$ \\Delta = |f(x) - S_3(x)| $')\n",
    "axs.grid()\n",
    "axs.legend()"
   ]
  },
  {
   "cell_type": "markdown",
   "id": "f37ade93",
   "metadata": {},
   "source": [
    "По графику вино, что погрещность почти близка к нулю. Следующим шагом построим на одном графике, график исходной функции,\n",
    "сплайна с отсутствием узлов, многочлена Лагранжа"
   ]
  },
  {
   "cell_type": "code",
   "execution_count": 53,
   "id": "fcc215da",
   "metadata": {},
   "outputs": [
    {
     "data": {
      "text/plain": [
       "<matplotlib.legend.Legend at 0x270df7c3fa0>"
      ]
     },
     "execution_count": 53,
     "metadata": {},
     "output_type": "execute_result"
    },
    {
     "data": {
      "image/png": "[encoded data removed]",
      "text/plain": [
       "<Figure size 720x360 with 1 Axes>"
      ]
     },
     "metadata": {
      "needs_background": "light"
     },
     "output_type": "display_data"
    }
   ],
   "source": [
    "x_data = np.linspace(a, b, 100)\n",
    "f_main = f(x_data)\n",
    "f_lagrange = [calculateSpline(i, x, y) for i in x_data]\n",
    "f_spline = [calculateSpline(i, x, y) for i in x_data]\n",
    "fig, axs = plt.subplots(1, 1, figsize=(10, 5))\n",
    "\n",
    "axs.plot(x_data, f_spline, label = '$ S_3(x) $', ls = 'dashdot')\n",
    "axs.plot(x_data, f_main, label = '$f(x)$')\n",
    "axs.plot(x_data, f_lagrange, label = '$L(x)$', ls = 'dotted')\n",
    "axs.grid()\n",
    "axs.legend()"
   ]
  },
  {
   "cell_type": "markdown",
   "id": "7aecb9df",
   "metadata": {},
   "source": [
    "**Вывод** При правильном подборе точек, можно достаточно точно проинтерполировать функцию, как видно на данном примере, значения сплайна и интерполирующего многочлена почти впритык совпадают со значениями функции"
   ]
  },
  {
   "cell_type": "markdown",
   "id": "7bd79491",
   "metadata": {},
   "source": [
    "## Задание 4.3"
   ]
  },
  {
   "cell_type": "markdown",
   "id": "77574f18",
   "metadata": {},
   "source": [
    "Задана функция $f(x)$, определенная на отрезке $[-1;1]$. Требуется разложить функцию в ряд Тейлора в окрестности нуля с точностью  $\\varepsilon$ и произвести экономизацию полученного степенного ряда"
   ]
  },
  {
   "cell_type": "markdown",
   "id": "bbc23e05",
   "metadata": {},
   "source": [
    "Заданная функция $ f(x) = 3 x e^{x} $\n",
    "\n",
    "Заданная точность $ \\varepsilon = 10^{-8} $\n",
    "\n",
    "Запишем для данной функций ряд Тейлора $ f(x) = 3 x e^x = \\sum\\limits_{n=0}^\\infty{\\frac{3 x^{n + 1}}{n!}} $\n",
    "\n",
    "\n",
    "Теперь запишем это в программе"
   ]
  },
  {
   "cell_type": "code",
   "execution_count": 37,
   "id": "8ad32c80",
   "metadata": {},
   "outputs": [],
   "source": [
    "# i-ый коэффициент ряда Тейлора\n",
    "def coefTaylor(x, i):\n",
    "    return (3 * x**(i + 1)) / (math.factorial(i)) \n",
    "\n",
    "# Частичная сумма ряда Тейлора до n\n",
    "def partialSum(x, n):\n",
    "    sum = x * 0\n",
    "    for i in range(n + 1):\n",
    "        sum += coefTaylor(x, i)\n",
    "    return sum\n",
    "\n",
    "# Сама заданная функция\n",
    "def f(x):\n",
    "    return 3 * x * np.exp(x)"
   ]
  },
  {
   "cell_type": "markdown",
   "id": "aa52e474",
   "metadata": {},
   "source": [
    "Найдем сколько членов рядов Тейлора следует взять для достижения заданной точности на отрезке"
   ]
  },
  {
   "cell_type": "code",
   "execution_count": 38,
   "id": "0ac3ea28",
   "metadata": {},
   "outputs": [
    {
     "name": "stdout",
     "output_type": "stream",
     "text": [
      "n =  11\n"
     ]
    }
   ],
   "source": [
    "a = -1\n",
    "b = 1\n",
    "x_data = np.linspace(a, b, 10000)\n",
    "eps = 10**(-8)\n",
    "n = 0\n",
    "while np.amax(abs(partialSum(x_data, n) - f(x_data))) > eps:\n",
    "    n += 1\n",
    "\n",
    "print(\"n = \", n)"
   ]
  },
  {
   "cell_type": "markdown",
   "id": "b0681170",
   "metadata": {},
   "source": [
    "Получили что необходимо взять 12 членов для достижения поставленной точности. Теперь построим график данного ряда"
   ]
  },
  {
   "cell_type": "code",
   "execution_count": 39,
   "id": "bf104b71",
   "metadata": {},
   "outputs": [
    {
     "data": {
      "text/plain": [
       "<matplotlib.legend.Legend at 0x1957870f280>"
      ]
     },
     "execution_count": 39,
     "metadata": {},
     "output_type": "execute_result"
    },
    {
     "data": {
      "image/png": "[encoded data removed]",
      "text/plain": [
       "<Figure size 720x360 with 1 Axes>"
      ]
     },
     "metadata": {
      "needs_background": "light"
     },
     "output_type": "display_data"
    }
   ],
   "source": [
    "fig, axs = plt.subplots(1, 1, figsize=(10, 5))\n",
    "axs.plot(x_data, partialSum(x_data, n), label = 'частичная сумма при n = 11 ')\n",
    "axs.grid()\n",
    "axs.legend()"
   ]
  },
  {
   "cell_type": "markdown",
   "id": "9f277031",
   "metadata": {},
   "source": [
    "Приступим к экономизции ряда. Для этого нам понадобятся многочлены Чебышева. Они определяются с помощью рекуррентного соотношения $ T_0(x) = 1, T_1(x) = x, T_{n + 1} = 2 x T_{n}(x) - T_{n - 1}(x) $"
   ]
  },
  {
   "cell_type": "markdown",
   "id": "5f8a7688",
   "metadata": {},
   "source": [
    "Есть следующие формулы для экономизации степенного ряда $ x = T_1, x^2 = \\frac{1}{2} (1 + T_2), x^3 = \\frac{1}{4} (3x + T_3),\n",
    "x^4 = \\frac{1}{8} (8 x^2 - 1 + T_4)$ и т.д.\n",
    "\n",
    "Идея экономизации состоит в следующем мы постепенно заменяем $ x^n, x^{n -1}, x ^{n - 2} $ и т.д. Формулами через многочлены Чебышева и отбрасываем затем многочлен Чебышева из этого ряда. Проделываем мы этот процесс до тех пока можем сохранить необходимую точность"
   ]
  },
  {
   "cell_type": "markdown",
   "id": "ee0a179b",
   "metadata": {},
   "source": [
    "Определим формулу для вычисления многочлена Чебышева"
   ]
  },
  {
   "cell_type": "code",
   "execution_count": 40,
   "id": "1d6cf5e3",
   "metadata": {},
   "outputs": [],
   "source": [
    "# многочлен Чебышева\n",
    "def polynomChebyshev(x, n):\n",
    "    if n == 0:\n",
    "        return 1\n",
    "    if n == 1:\n",
    "        return x\n",
    "    return 2 * x * polynomChebyshev(x, n - 1) - polynomChebyshev(x, n - 2)"
   ]
  },
  {
   "cell_type": "markdown",
   "id": "f0cea331",
   "metadata": {},
   "source": [
    "Пробуем избавится от $ x^{12} $\n",
    "\n",
    "Для него справедлива следующая формула через многочлены Чебышева\n",
    "\n",
    "$$ x^{12} = \\frac{1}{2048} \\left(6144 x^{10} - 6912 x^{8} + 3584 x^{6} - 840 x^{4} + 72  x^{2} - 1 + T_{12} \\right) $$"
   ]
  },
  {
   "cell_type": "code",
   "execution_count": 57,
   "id": "f5c3624e",
   "metadata": {},
   "outputs": [
    {
     "name": "stdout",
     "output_type": "stream",
     "text": [
      "Точность пока сохраняется\n",
      "delta =  6.818353881499206e-09\n"
     ]
    }
   ],
   "source": [
    "# Формула x**12 через многочлен Чебышева\n",
    "def x12(x):\n",
    "    return (1 / 2048) * (6144 * x**10 - 6912 * x**8 + 3584 * x**6 - 840 * x**4 + 72 * x**2 - 1)\n",
    "\n",
    "# Получаемая максимальная погрешность\n",
    "delta = np.amax(abs(partialSum(x_data, 10) + 3 / math.factorial(11) * x12(x_data) - f(x_data)))\n",
    "\n",
    "if delta <= eps:\n",
    "    print(\"Точность пока сохраняется\")\n",
    "else:\n",
    "    print(\"Точность перестала сохраняется\")\n",
    "print(\"delta = \", delta)"
   ]
  },
  {
   "cell_type": "markdown",
   "id": "010afc75",
   "metadata": {},
   "source": [
    "Избавление от $ x^{11} $ сохраняет точность\n",
    "Следующий шаг. Пробуем избавится от $ x^{11} $\n",
    "\n",
    "Для него справедлива формула\n",
    "\n",
    "$ x^{11} = \\frac{1}{1024} \\left(2816 x^9 - 2816 x^7 + 1232 x^5 - 220 x^3 + 11x + T_{11}  \\right) $"
   ]
  },
  {
   "cell_type": "code",
   "execution_count": 60,
   "id": "2c1c322c",
   "metadata": {},
   "outputs": [
    {
     "name": "stdout",
     "output_type": "stream",
     "text": [
      "Точность перестала сохраняется\n",
      "delta =  8.274532525831546e-08\n"
     ]
    }
   ],
   "source": [
    "# Формула x**11 через многочлен Чебышева\n",
    "def x11(x):\n",
    "    return 1 / 1024 * (2816 * x**9 - 2816*x**7 + 1232*x**5 - 220*x**3 + 11 * x)\n",
    "\n",
    "# Получаемая максимальная погрешность\n",
    "delta = np.amax(abs(partialSum(x_data, 9) + 3 / math.factorial(10) * x11(x_data) - f(x_data)))\n",
    "if delta <= eps:\n",
    "    print(\"Точность пока сохраняется\")\n",
    "else:\n",
    "    print(\"Точность перестала сохраняется\")\n",
    "print(\"delta = \", delta)"
   ]
  },
  {
   "cell_type": "markdown",
   "id": "86221d11",
   "metadata": {},
   "source": [
    "После отбрасывания $ x^{11} $ точность перестала сохранятся. Следовательно нет смысла дальше продолжать процесс экономизации \n",
    "ряда.\n",
    "\n",
    "Следующим шагом построим погрешнось каждого из этапов экономизации"
   ]
  },
  {
   "cell_type": "code",
   "execution_count": 64,
   "id": "55bea021",
   "metadata": {},
   "outputs": [
    {
     "data": {
      "text/plain": [
       "<matplotlib.legend.Legend at 0x195797612e0>"
      ]
     },
     "execution_count": 64,
     "metadata": {},
     "output_type": "execute_result"
    },
    {
     "data": {
      "image/png": "[encoded data removed]",
      "text/plain": [
       "<Figure size 1080x360 with 3 Axes>"
      ]
     },
     "metadata": {
      "needs_background": "light"
     },
     "output_type": "display_data"
    }
   ],
   "source": [
    "# Погрешность без экономизации\n",
    "def absErrorWithoutEco(x_data):\n",
    "    return abs(f(x_data) - partialSum(x_data, 11))\n",
    "\n",
    "# Погрешность на первом этапе экономизации\n",
    "def absErrorFirstStepEco(x_data):\n",
    "    return abs(partialSum(x_data, 10) + 3 / math.factorial(11) * x12(x_data) - f(x_data))\n",
    "    \n",
    "# Погрешность на втором этапе экономизации\n",
    "def absErrorSecondStepEco(x_data):\n",
    "    return abs(partialSum(x_data, 9) + 3 / math.factorial(10) * x11(x_data) - f(x_data))\n",
    "    \n",
    "fig, axs = plt.subplots(1, 3, figsize = (15, 5))\n",
    "axs[0].plot(x_data, absErrorWithoutEco(x_data), label = 'Без экономизации')\n",
    "axs[0].legend()\n",
    "axs[1].plot(x_data, absErrorFirstStepEco(x_data), label = 'Первый этап экономизации')\n",
    "axs[1].legend()\n",
    "axs[2].plot(x_data, absErrorSecondStepEco(x_data), label = 'Второй этап экономизации')\n",
    "axs[2].legend()"
   ]
  }
 ],
 "metadata": {
  "kernelspec": {
   "display_name": "Python 3 (ipykernel)",
   "language": "python",
   "name": "python3"
  },
  "language_info": {
   "codemirror_mode": {
    "name": "ipython",
    "version": 3
   },
   "file_extension": ".py",
   "mimetype": "text/x-python",
   "name": "python",
   "nbconvert_exporter": "python",
   "pygments_lexer": "ipython3",
   "version": "3.9.7"
  }
 },
 "nbformat": 4,
 "nbformat_minor": 5
}
