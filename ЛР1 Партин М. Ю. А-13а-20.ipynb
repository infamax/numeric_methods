{
 "cells": [
  {
   "cell_type": "markdown",
   "id": "a9d466ef",
   "metadata": {},
   "source": [
    "# Лабораторная работа №1\n",
    "## Партин М. Ю. А-13а-20\n",
    "## Вариант 17\n",
    "### Задание 1.1\n",
    "***\n",
    "Найти значения  машинного нуля, машинной бесконечности и машинного эпсилон.\n",
    "\n",
    "**Машинный ноль** - минимальное числовое значение в ЭВМ. Все числа меньше, которого воспринимаются ЭВМ как ноль. \n",
    "\n",
    "Для определения машинного нуля используем следующий алгоритм. Ищем максимальное значение m, при котором выражение $ 2^{-m - 1} $\n",
    "дает ноль\n",
    "\n"
   ]
  },
  {
   "cell_type": "code",
   "execution_count": 2,
   "id": "5a0aa29b",
   "metadata": {},
   "outputs": [
    {
     "name": "stdout",
     "output_type": "stream",
     "text": [
      "Машинный ноль: 4.94e-324\n"
     ]
    }
   ],
   "source": [
    "#Первая часть лр, определение машинного нуля, бесконечности  и эпсилон\n",
    "%matplotlib inline\n",
    "import numpy as np\n",
    "import math\n",
    "import matplotlib.pyplot as plt\n",
    "\n",
    "# Функция для определения машинного нуля\n",
    "def machineZero():\n",
    "    m = 1\n",
    "    while 2**(-m) != 0:\n",
    "        m += 1\n",
    "    m -= 1\n",
    "    return 2**(-m)\n",
    "print(f\"Машинный ноль: {machineZero():.2e}\")"
   ]
  },
  {
   "cell_type": "markdown",
   "id": "2109debf",
   "metadata": {},
   "source": [
    "**Машинная бесконечность** - максимальное числовое значение в ЭВМ. Все числа, больше которого воспринимаются ЭВМ как бесконечность\n",
    "\n",
    "Используем следующий алгоритм для определения машинной бесконечности. Ищем, такое минимальное значение m, при котором у выражения $ 2^{m} $ происходит переполнение."
   ]
  },
  {
   "cell_type": "code",
   "execution_count": 3,
   "id": "edbda5ad",
   "metadata": {},
   "outputs": [
    {
     "name": "stdout",
     "output_type": "stream",
     "text": [
      "Машинная бесконечность: 8.99e+307\n"
     ]
    }
   ],
   "source": [
    "# Функция для определения машинной бесконечности\n",
    "def machineINF():\n",
    "    m = 1.0\n",
    "    while not np.isinf(m * 2.0):\n",
    "        m *= 2.0\n",
    "    return m\n",
    "print(f\"Машинная бесконечность: {machineINF():.2e}\")"
   ]
  },
  {
   "cell_type": "markdown",
   "id": "eccd5d73",
   "metadata": {},
   "source": [
    "**Машинный эпсилон** характеризует точность представление чисел в ЭВМ. Эта граница \n",
    "относительной погрешности представления чисел в ЭВМ\n",
    "\n",
    "Для опредения машинного эпсилон будет использовать следующий алгоритм. Найдем минимальное значение m, при котором число $ 1 + 2^{-m} $ воспринимается ЭВМ как единица"
   ]
  },
  {
   "cell_type": "code",
   "execution_count": 4,
   "id": "dea1874e",
   "metadata": {},
   "outputs": [
    {
     "name": "stdout",
     "output_type": "stream",
     "text": [
      "Машинный ноль: 1.11e-16\n"
     ]
    }
   ],
   "source": [
    "def machineEPS():\n",
    "    m = 1\n",
    "    while 1 + 2**(-m) != 1:\n",
    "        m += 1\n",
    "    return 2**(-m)\n",
    "print(f\"Машинный ноль: {machineEPS():.2e}\")"
   ]
  },
  {
   "cell_type": "markdown",
   "id": "f530f6da",
   "metadata": {},
   "source": [
    "### Задание 1.2\n",
    "\n",
    "**Заданная функция:**\n",
    "\n",
    "$ f(x) = e^x - x - 1 $\n",
    "\n",
    "Отрезок:\n",
    "$ [a, b] = [-9, -5] $\n",
    "\n",
    "Записать разложение заданной функции в ряд Тейлора окрестности нуля\n",
    "\n",
    "Разложение функции в ряд Тейлора в окрестности нуля имеет следующий вид \n",
    "\n",
    "$$ f(x) = \\sum\\limits_{k=2}^{\\infty} {\\frac{x^k}{k!}} $$\n",
    "\n",
    "Запишем это в коде.\n",
    "\n",
    "f(x) - это есть функция заданная по условию задачи\n",
    "\n",
    "k_term - это есть k-ый член ряда Тейлора\n",
    "\n",
    "S(x, n) - это есть частичная сумма ряда Тейлора от 0 до n"
   ]
  },
  {
   "cell_type": "code",
   "execution_count": 5,
   "id": "b5e87bfe",
   "metadata": {},
   "outputs": [],
   "source": [
    "# Вторая часть лр\n",
    "\n",
    "#Функция заданная в задачи\n",
    "def f(x):\n",
    "    return np.exp(x) - x - 1\n",
    "\n",
    "# k - ий член разложения исходной функции в ряд Тейлора\n",
    "def k_term(x, k):\n",
    "    if k == 0 or k == 1:\n",
    "        return x * 0\n",
    "    # Начиная со второго члена\n",
    "    return x**k / math.factorial(k)\n",
    "\n",
    "def S(x, n):\n",
    "    res = x * 0\n",
    "    for i in range(0, n):\n",
    "        res = res + k_term(x, i) # Почему-то res += k_term(x, i) не работает. Интересно)\n",
    "    return res\n"
   ]
  },
  {
   "cell_type": "markdown",
   "id": "0d0a30f9",
   "metadata": {},
   "source": [
    "Для построения графика равномерно заполняем массив значений x_data, с помощью функции np.linspace. А также находим середину отрезка"
   ]
  },
  {
   "cell_type": "code",
   "execution_count": 6,
   "id": "f366011d",
   "metadata": {},
   "outputs": [],
   "source": [
    "# Отрезок на котором задана функция\n",
    "a = -9\n",
    "b = -5\n",
    "c = (a + b) / 2\n",
    "x_data = np.linspace(a, b, 10000, dtype = float)"
   ]
  },
  {
   "cell_type": "markdown",
   "id": "f15a2adb",
   "metadata": {},
   "source": [
    "Строим график исходной функции $ f(x) $ на заданном отрезке.\n",
    "\n",
    "Также строим на заданном отрезке графики частичных сумм ряда Тейлора S(x, n) c 0 по 5-ую.\n",
    "\n",
    "Также строим графики абсолютной погрешности первых пяти частичных сумм на заданном отрезке"
   ]
  },
  {
   "cell_type": "code",
   "execution_count": 7,
   "id": "ce472a8d",
   "metadata": {},
   "outputs": [
    {
     "data": {
      "text/plain": [
       "<matplotlib.legend.Legend at 0x21808046d00>"
      ]
     },
     "execution_count": 7,
     "metadata": {},
     "output_type": "execute_result"
    },
    {
     "data": {
      "image/png": "[encoded data removed]",
      "text/plain": [
       "<Figure size 1080x360 with 2 Axes>"
      ]
     },
     "metadata": {
      "needs_background": "light"
     },
     "output_type": "display_data"
    }
   ],
   "source": [
    "# Построение графиков исходной функции и ее частичных сумм с 1-ой по 5-ую\n",
    "\n",
    "fig, axs = plt.subplots(1, 2, figsize=(15, 5))\n",
    "axs[0].plot(x_data, f(x_data), label = \"$f$\", color = \"black\")\n",
    "\n",
    "#задаем кортеж из стилей линий\n",
    "line_styles = ((0, (3, 1, 1, 1, 1, 1)), 'dotted', 'dashed',\n",
    "'dashdot', (0, (1, 10)))\n",
    "\n",
    "\n",
    "for i in range(0,5):\n",
    "    axs[0].plot(x_data, S(x_data, i), label=f'$S(x,{i})$',\n",
    "        ls=line_styles[i])\n",
    "\n",
    "    \n",
    "#в цикле рисуем погрешность S на втором графике\n",
    "for i in range(0,5):\n",
    "    axs[1].plot(x_data, np.abs(S(x_data, i)-f(x_data)),\n",
    "        label=f'$\\Delta S(x,{i})$', ls=line_styles[i])\n",
    "    \n",
    "axs[0].legend()\n",
    "axs[1].legend()"
   ]
  },
  {
   "cell_type": "markdown",
   "id": "fdf1e2bf",
   "metadata": {},
   "source": [
    "Определяем количество членов ряда n_machine_error, при котором величина относительной погрешности  в средней  точке отрезка  станет меньше машинного эпсилон. \n",
    "\n",
    "Для этого считаем отношение прибавляемого члена к k-oй частичной суммы. И пока это значение больше машинного эпсилона продолжаем вычисление"
   ]
  },
  {
   "cell_type": "code",
   "execution_count": 8,
   "id": "9d80a524",
   "metadata": {},
   "outputs": [
    {
     "name": "stdout",
     "output_type": "stream",
     "text": [
      "42\n"
     ]
    }
   ],
   "source": [
    "# Определение количества членов ряда S, при котором величина относительной погрешности в средней\n",
    "# точке меньше машинного эпсилона\n",
    "\n",
    "eps = machineEPS()\n",
    "p_sum = k_term(c, 2)\n",
    "n_machine_error = 2\n",
    "n_t = k_term(c, 2)\n",
    "\n",
    "while np.abs(n_t / p_sum) > eps:\n",
    "    n_machine_error += 1\n",
    "    n_t = k_term(c, n_machine_error)\n",
    "    p_sum += n_t\n",
    "    \n",
    "print(n_machine_error)\n"
   ]
  },
  {
   "cell_type": "markdown",
   "id": "9c44a47d",
   "metadata": {},
   "source": [
    "Строим графики абсолютной и относительной погрешности при найденном значении n_machine_error\n",
    "\n",
    "Также для того, чтобы более подробно понять как введут себя графики задаем определенное значение по оси OY для нижних графиков"
   ]
  },
  {
   "cell_type": "code",
   "execution_count": 9,
   "id": "6f8e3296",
   "metadata": {},
   "outputs": [
    {
     "data": {
      "text/plain": [
       "[(0.0, 1e-12)]"
      ]
     },
     "execution_count": 9,
     "metadata": {},
     "output_type": "execute_result"
    },
    {
     "data": {
      "image/png": "[encoded data removed]",
      "text/plain": [
       "<Figure size 1080x720 with 4 Axes>"
      ]
     },
     "metadata": {
      "needs_background": "light"
     },
     "output_type": "display_data"
    }
   ],
   "source": [
    "# Построение графиков абсолютной и относительной погрешности при найденном значении n_machine_error\n",
    "#делаем рисунок из четырех графиков\n",
    "\n",
    "fig, axs = plt.subplots(2, 2, figsize=(15, 10))\n",
    "\n",
    "axs[0][0].plot(x_data, np.abs(f(x_data) - S(x_data, n_machine_error)),\n",
    "    label=f'$\\Delta S(x,{n_machine_error})$')\n",
    "\n",
    "axs[0][1].plot(x_data, np.abs((f(x_data) - S(x_data, n_machine_error))\n",
    "    / S(x_data, n_machine_error)), label=f'$\\delta S(x,{n_machine_error})$')\n",
    "\n",
    "axs[1][0].plot(x_data, np.abs(f(x_data) - S(x_data, n_machine_error)),\n",
    "    label=f'$\\Delta S(x,{n_machine_error})$')\n",
    "\n",
    "axs[1][1].plot(x_data, np.abs(f(x_data) - S(x_data, n_machine_error)\n",
    "    / S(x_data, n_machine_error)), label=f'$\\delta S(x,{n_machine_error})$')\n",
    "\n",
    "axs[0][0].legend()\n",
    "axs[0][1].legend()\n",
    "axs[1][0].legend()\n",
    "axs[1][1].legend()\n",
    "\n",
    "# Границы для нижных графиков\n",
    "axs[1][0].set(ylim=(0.0, 10E-13))\n",
    "axs[1][1].set(ylim=(0.0, 10E-13))"
   ]
  },
  {
   "cell_type": "markdown",
   "id": "aa4a2ba7",
   "metadata": {},
   "source": [
    "Функция, которая округляет числа до 4 разрядов мантиссы"
   ]
  },
  {
   "cell_type": "code",
   "execution_count": 1,
   "id": "f6db9a98",
   "metadata": {},
   "outputs": [],
   "source": [
    "# Округление до t разрядов мантиссы\n",
    "def round(x):\n",
    "    return float(np.format_float_scientific(x, precision = 4))"
   ]
  },
  {
   "cell_type": "markdown",
   "id": "b7720b81",
   "metadata": {},
   "source": [
    "Пишем функцию для округляения определенное значение ряда Тейлора при заданном x S(x, n) до 4 разрядов мантиссы\n",
    "\n",
    "Также запишем функцию, которая округляет уже все члены массива сумм ряда Тейлора до 4 разрядов мантиссы"
   ]
  },
  {
   "cell_type": "code",
   "execution_count": 86,
   "id": "55b527b0",
   "metadata": {},
   "outputs": [],
   "source": [
    "# Округление одного элемента до t разрядов мантиссы\n",
    "def roundItem(x, n):\n",
    "    res = 0\n",
    "    for i in range(n):\n",
    "        res = res + round(k_term(x, i)) # Также почему-то есть проблема res += round\n",
    "        res = round(res)\n",
    "    return res\n",
    "\n",
    "# Округление всего массива сумм Тейлора\n",
    "def sRounded(x, n):\n",
    "    res = x.copy()\n",
    "    for i in range(len(x)):\n",
    "        res[i] = roundItem(x[i], n)\n",
    "    return res"
   ]
  },
  {
   "cell_type": "markdown",
   "id": "d3896cb4",
   "metadata": {},
   "source": [
    "Строим графики абсолютной и относительной погрешности частичных сумм ряда Тейлора при n = n_machine_error"
   ]
  },
  {
   "cell_type": "code",
   "execution_count": 85,
   "id": "5e13b5f3",
   "metadata": {},
   "outputs": [
    {
     "data": {
      "text/plain": [
       "<matplotlib.legend.Legend at 0x214a9390040>"
      ]
     },
     "execution_count": 85,
     "metadata": {},
     "output_type": "execute_result"
    },
    {
     "data": {
      "image/png": "[encoded data removed]",
      "text/plain": [
       "<Figure size 1080x360 with 2 Axes>"
      ]
     },
     "metadata": {
      "needs_background": "light"
     },
     "output_type": "display_data"
    }
   ],
   "source": [
    "fig, axs = plt.subplots(1, 2, figsize=(15, 5))\n",
    "\n",
    "axs[0].plot(x_data, np.abs(f(x_data) - sRounded(x_data, n_machine_error)),\n",
    "    label=f'$\\Delta S(x,{n_machine_error})$')\n",
    "    \n",
    "axs[1].plot(x_data, np.abs((f(x_data) - sRounded(x_data, n_machine_error))\n",
    "    /sRounded(x_data, n_machine_error)), label=f'$\\delta S(x,{n_machine_error})$')\n",
    "\n",
    "axs[0].legend()\n",
    "axs[1].legend()"
   ]
  },
  {
   "cell_type": "markdown",
   "id": "3f2e636d",
   "metadata": {},
   "source": [
    "**Вывод** - при округлении чисел до 4 разрядов мантиссы мы получили огромную погрешность. Так как мы тераем точность вычислении при округлении чисел. И с каждой итерацией это точность вычисления все понижается и понижается"
   ]
  },
  {
   "cell_type": "markdown",
   "id": "5f6493da",
   "metadata": {},
   "source": [
    "### Задание 1.3\n",
    "\n",
    "Дана функция $ f(a, b, c) $. Значения переменных указаны в варианте со всеми верными цифрами. Оценить погрешность результата двумя способами: а) используя оценки погрешности для арифметических операций, б) используя общую формулу погрешностей. Результат представить в двух формах записи: с явным указанием погрешностей и с учетом количества верных цифр\n",
    "\n",
    "Заданная функция:\n",
    "\n",
    "$$ f(a, b, c) = \\frac{a - 3b}{a^2 + 3c} $$\n",
    "\n",
    "Заданные значения в точках:\n",
    "\n",
    "$ a = 4,29 $\n",
    "\n",
    "$ b = 13,8 $\n",
    "\n",
    "$ c = 10,98 $\n",
    "\n",
    "***"
   ]
  },
  {
   "cell_type": "markdown",
   "id": "dd05dce5",
   "metadata": {},
   "source": [
    "### Пункт 1 расчет погрешности используя оценку погрешности для арифметических операций\n",
    "\n",
    "На лекции мы договорились о следующем соглашении.  Будем считать, что по умолчанию задаются приближенные числа с абсолютной погрешностью равной $\\Delta = 5 \\cdot 10^{-N-1}$, где N- номер последнего оставленного разряда. Отсюда\n",
    "\n",
    "$ \\Delta{a} = 0,005 $\n",
    "\n",
    "$ \\Delta{b} = 0,05 $\n",
    "\n",
    "$ \\Delta{c} = 0,005 $\n",
    "\n",
    "\n",
    "$ \\delta{a} = 0.00117 $\n",
    "\n",
    "$ \\delta{b} = 0.0036 $\n",
    "\n",
    "$ \\delta{c} = 0.00046 $\n",
    "\n",
    "$ f(4,29; 13,8; 10,98) = −0, 18522 $\n",
    "\n",
    "\n",
    "Будем считать, что по умолчанию задаются приближенные числа с абсолютной погрешностью равной , где N- номер последнего оставленного разряда\n",
    "\n",
    "Так как в данной функции присутствуют умножение и операции деления. То проще будет посчитать относительную погрешность, а потом зная ее посчитать и абслолютную погрешность\n",
    "\n",
    "$$ \\delta\\left(f(a, b, c)\\right) = \\delta\\left(\\frac{a - 3b}{a^2 + 3c}\\right) = \n",
    "    \\delta\\left(a - 3b\\right) + \\delta\\left(a^2 + 3c\\right) = \n",
    "$$\n",
    "\n",
    "Распишем по определению относительной погрешности \n",
    "\n",
    "$$  = \\frac{\\Delta\\left|a - 3b\\right|}{\\left|a - 3b\\right|} + \\frac{\\Delta\\left|a^2 + 3c\\right|}{\\left|a^2 + 3c\\right|} =\n",
    "  \\frac{\\Delta\\left|a\\right| + 3\\Delta\\left|b\\right|}{\\left|a - 3b\\right|} + \\frac{\\Delta\\left|a^2\\right| + 3\\Delta\\left|c\\right|}{\\left|a^2 + 3c\\right|}$$ = \n",
    "  \n",
    "Осталось избавится от $ \\Delta\\left|a^2\\right| $. Для этого перепишем эту погрешность через относительную\n",
    "\n",
    "$$ = \\frac{\\Delta\\left|a\\right| + 3\\Delta\\left|b\\right|}{\\left|a - 3b\\right|} + \\frac{\\delta\\left(a^2\\right) \\cdot \\left|a^2\\right| + 3\\Delta\\left|c\\right|}{\\left|a^2 + 3c\\right|} = \\frac{\\Delta\\left|a\\right| + 3\\Delta\\left|b\\right|}{\\left|a - 3b\\right|} + \\frac{2\\delta\\left(a\\right) \\cdot \\left|a^2\\right| + 3\\Delta\\left|c\\right|}{\\left|a^2 + 3c\\right|} $$\n",
    "\n",
    "Таким образом подставив полученные значения в формулу получим относительную и абсолютную погрешность\n",
    "\n",
    "$$ \\Delta\\left(f(a,b,c)\\right) = \\frac{0,005 + 3 \\cdot 0,05}{\\left|4,29 - 3 \\cdot 13.8 \\right|} + \\frac{2 \\cdot 0,00117 \\cdot\n",
    "\\left|4,29^{2} \\right| + 3 \\cdot 0,005}{\\left|4,29^{2} + 3 \\cdot 10,98\\right|} $$\n",
    "\n",
    "$ \\delta\\left(f(a, b, c)\\right) = 0,0053 $\n",
    "\n",
    "$\\Delta\\left(f(a,b,c)\\right) = 0,0053 \\cdot 0, 18522 = 0.00098$\n",
    "\n",
    "***\n",
    "\n",
    "**Ответ на 1 пункт**\n",
    "\n",
    "Запись ответа с учетом количества верных значащих цифр\n",
    "\n",
    "$ f(4,29; 13,8; 10,98) = −0, 185 $ (3 верные цифры)\n",
    "\n",
    "С явным указанием погрешности\n",
    "\n",
    "$ f(4,29; 13,8; 10,98) = -0,18500 \\pm 0,00098 $ \n",
    "\n",
    "\n"
   ]
  },
  {
   "cell_type": "markdown",
   "id": "35305761",
   "metadata": {},
   "source": [
    "### Пункт 2 расчет погрешности используя  общую формулу погрешности\n",
    "\n",
    "Воспользуемся следующей формулой\n",
    "\n",
    "$$ \\Delta\\left(f(a, b, c)\\right) = \\left|\\frac{\\partial f(a, b, c)}{\\partial a}\\right| \\cdot \\Delta(a)\n",
    "    + \\left|\\frac{\\partial f(a, b, c)}{\\partial b}\\right| \\cdot \\Delta(b) + \\left|\\frac{\\partial f(a, b, c)}{\\partial c}\\right| \\cdot \\Delta(c)\n",
    "$$\n",
    "\n",
    "$$ \\frac{\\partial f(a, b, c)}{\\partial a} = \\frac{a^2 + 3c - 2a(a - 3b)}{\\left(a^2 + 3c\\right)^2}$$\n",
    "\n",
    "\n",
    "$$ \\frac{\\partial f(a, b, c)}{\\partial b} = -\\frac{3}{a^2 + 3c}$$\n",
    "\n",
    "$$ \\frac{\\partial f(a, b, c)}{\\partial c} = -\\frac{3(a - 3b)}{\\left(a^2 + 3c\\right) ^ 2}$$ \n",
    "\n",
    "\n",
    "Подставив полученные значения в формулу получим\n",
    "\n",
    "$$ \\frac{\\partial f(a, b, c)}{\\partial a} = \\frac{4,29 ^ {2} + 3 \\cdot 10,98 - 2 \\cdot 4,29 \\cdot \\left(4,29 - 3 \\cdot 13,8\\right)}{\\left(4,29 ^ {2} + 3 \\cdot 10,98 \\right) ^ {2}} = 0,140257025 $$\n",
    "\n",
    "\n",
    "$$ \\frac{\\partial f(a, b, c)}{\\partial b} = - \\frac{3}{4,29^2 + 3 \\cdot 10,98} = -0,058429303 $$ \n",
    "\n",
    "$$  \\frac{\\partial f(a, b, c)}{\\partial c} = - \\frac{3 \\cdot \\left(4,29 - 3 \\cdot 13,8 \\right)}{(4,29 ^ 2 + 3 \\cdot 10,98) ^ 2} \n",
    " = 0,042230975 $$ \n",
    "\n",
    "\n",
    "$$  \\Delta\\left(f(a, b, c)\\right) = \\left|0,140257025 \\right| \\cdot 0,005 + \\left|-0,058429303 \\right| \\cdot 0,05 + \n",
    "\\left|0,042230975 \\right| \\cdot 0,005 = 0,00383390515$$ \n",
    "\n",
    "$$ \\Delta\\left(f(a, b, c)\\right) = 0, 0038 $$\n",
    "\n",
    "\n",
    "$$ \\delta\\left(f(a, b, c)\\right) = 0,0038 \\cdot \\left|-0,18522\\right| = 0, 0007 $$\n",
    "\n",
    "**Ответ на 2 пункт**\n",
    "\n",
    "Запись ответа с учетом количества верных значащих цифр\n",
    "\n",
    "$ f(4,29; 13,8; 10,98) = −0, 19 $ (2 верные цифры)\n",
    "\n",
    "С явным указанием погрешности\n",
    "\n",
    "$ f(4,29; 13,8; 10,98) = -0,1900 \\pm 0,0038 $ \n"
   ]
  },
  {
   "cell_type": "markdown",
   "id": "022f9807",
   "metadata": {},
   "source": [
    "**Вывод**\n",
    "\n",
    "Используя формулу для погрешности арифметических операции мы получили более \n",
    "точные значение относительной и абсолютной погрешности. Но ее использование оказалось более трудоемким, чем использование общей формулы для погрешности функции"
   ]
  },
  {
   "cell_type": "code",
   "execution_count": null,
   "id": "b867c112",
   "metadata": {},
   "outputs": [],
   "source": []
  }
 ],
 "metadata": {
  "kernelspec": {
   "display_name": "Python 3 (ipykernel)",
   "language": "python",
   "name": "python3"
  },
  "language_info": {
   "codemirror_mode": {
    "name": "ipython",
    "version": 3
   },
   "file_extension": ".py",
   "mimetype": "text/x-python",
   "name": "python",
   "nbconvert_exporter": "python",
   "pygments_lexer": "ipython3",
   "version": "3.9.7"
  }
 },
 "nbformat": 4,
 "nbformat_minor": 5
}
