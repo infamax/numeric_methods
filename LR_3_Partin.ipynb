{
 "cells": [
  {
   "cell_type": "markdown",
   "id": "b488e75b",
   "metadata": {},
   "source": [
    "# Лабораторная работа 3\n",
    "## Партин М. Ю\n",
    "## А-13а-20\n",
    "### Вариант 17"
   ]
  },
  {
   "cell_type": "markdown",
   "id": "215e3f14",
   "metadata": {},
   "source": [
    "## Задание 3.1\n",
    "\n",
    "Реализовать решение СЛАУ с помощью LU разложения и LU разложения по схеме частичного выбора. Решить систему небольшой размерности с возмущенной матрицей обоими методами, оценить погрешность и сравнить с теоретической оценкой. Проанализировать поведение  методов с ростом числа уравнений"
   ]
  },
  {
   "cell_type": "markdown",
   "id": "7e07fbbc",
   "metadata": {},
   "source": [
    "По условии задания мой номер N = 17, K = 1 "
   ]
  },
  {
   "cell_type": "markdown",
   "id": "364857e3",
   "metadata": {},
   "source": [
    "**1 Реализация LU разложения**\n",
    "\n",
    "Функция возвращает две матрицы L и U, не модифицируя A\n",
    "\n",
    "\n",
    "Согласно теории, чтобы получить разложение матрицы с помощью LU разложения нам надо воспользоваться методом Гаусса\n",
    "\n",
    "Пусть имеем квадратную матрицу A порядка n\n",
    "\n",
    "$$ A = \\left( \\begin{array}{cccc}\n",
    "                a_{11} & a_{12} & \\ldots & a_{1n}\\\\\n",
    "                a_{21} & a_{22} & \\ldots & a_{2n}\\\\\n",
    "                \\vdots & \\vdots & \\ddots & \\vdots\\\\\n",
    "                a_{n1} & a_{n2} & \\ldots & a_{nn}\n",
    "                \\end{array}\n",
    "        \\right)$$\n",
    "        \n",
    "Применив метод Гаусса мы получим верхнетреугольную матрицу вида\n",
    "\n",
    "$$ \\tilde A = \\left( \\begin{array}{cccc}\n",
    "                \\tilde a_{11} & \\tilde a_{12} & \\ldots & \\tilde a_{1n}\\\\\n",
    "                0 & \\tilde a_{22} & \\ldots & \\tilde a_{2n}\\\\\n",
    "                \\vdots & \\vdots & \\ddots & \\vdots\\\\\n",
    "                0 & 0 & \\ldots & \\tilde a_{nn}\n",
    "                \\end{array}\n",
    "        \\right)$$\n",
    "        \n",
    " Это и будет матрица $ U = \\tilde A $\n",
    " \n",
    " \n",
    " Матрица L - нижнетреугольная получается из коэффициентов $ \\mu_{2,1}, \\mu_{2,2}, \\ldots , \\mu_{2,n}, \\mu_{3,2}, \\mu_{3,3}, \\ldots, \\mu_{3,n}, \\ldots \\mu_{n, n - 1} $. Эти коэффициенты используется в методе Гаусса и вычисляются по формуле \n",
    " $ \\mu_{i, j} = \\frac{a_{i, j}}{a_{j, j}} $\n",
    "\n",
    "\n",
    "$$ L = \\left( \\begin{array}{cccc}\n",
    "                1 & 0 & \\ldots & 0 & 0\\\\\n",
    "                \\mu_{21} & 1 & \\ldots & 0 & 0\\\\\n",
    "                \\vdots & \\vdots & \\ddots & \\vdots\\\\\n",
    "                \\mu_{n1} & \\mu_{n2} & \\ldots & \\mu_{n, n - 1} & 1\n",
    "                \\end{array}\n",
    "        \\right) $$\n",
    "        \n",
    "Мы имеем необходмый теоретический материал для 1 реализации LU разложение сделаем это"
   ]
  },
  {
   "cell_type": "code",
   "execution_count": 2,
   "id": "a6c1bce2",
   "metadata": {},
   "outputs": [],
   "source": [
    "import numpy as np\n",
    "import matplotlib.pyplot as plt\n",
    "import scipy.linalg as linalg\n",
    "\n",
    "# Решения без модификации матрицы A\n",
    "def LUDecompositionVersion1(A):\n",
    "    n = A.shape[0]\n",
    "    U = A # Чтобы не модифицировать матрицу A, копируем ее в U\n",
    "    L = np.eye(n) # Делаем единичную матрицу n * n\n",
    "    for k in range(n - 1):\n",
    "            for i in range(k + 1, n):\n",
    "                mu_i_k = U[i][k] / U[k][k]\n",
    "                L[i][k] = mu_i_k\n",
    "                U[i][k] -= U[k][k] * mu_i_k\n",
    "                for j in range(k + 1, n):\n",
    "                    U[i][j] -= (mu_i_k * U[k][j])\n",
    "    return L, U"
   ]
  },
  {
   "cell_type": "markdown",
   "id": "da0fee67",
   "metadata": {},
   "source": [
    "В качестве системы для проверки я возьму следующую матрицу\n",
    "\n",
    "$$ A = \\left( \\begin{array}{cccc}\n",
    "                9 & 0 & -11\\\\\n",
    "                -9 & 8 & 6\\\\\n",
    "                18 & -80 & 32\n",
    "                \\end{array}\n",
    "        \\right)$$\n",
    "        \n",
    "Для того, чтобы выполнить проверку применим функцию LUDecompositionVersion1(A) к данной матрице и перемножим две получившиеся матрицы, если результат их перемножения равен матрицы A, то функция работает корректно"
   ]
  },
  {
   "cell_type": "code",
   "execution_count": 3,
   "id": "2fd9f7d0",
   "metadata": {},
   "outputs": [
    {
     "name": "stdout",
     "output_type": "stream",
     "text": [
      "L =  [[  1.   0.   0.]\n",
      " [ -1.   1.   0.]\n",
      " [  2. -10.   1.]]\n",
      "U =  [[  9   0 -11]\n",
      " [  0   8  -5]\n",
      " [  0   0   4]]\n",
      "res =  [[  9.   0. -11.]\n",
      " [ -9.   8.   6.]\n",
      " [ 18. -80.  32.]]\n"
     ]
    }
   ],
   "source": [
    "A = np.array([[9, 0, -11], [-9, 8, 6], [18, -80, 32]])\n",
    "L, U = LUDecompositionVersion1(A)\n",
    "print(\"L = \", L)\n",
    "print(\"U = \", U)\n",
    "\n",
    "res = L @ U\n",
    "\n",
    "print(\"res = \", res)"
   ]
  },
  {
   "cell_type": "markdown",
   "id": "3e93f0c8",
   "metadata": {},
   "source": [
    "Имеем следующее в результате перемножения мы получили ту же самую матрицу, следовательно можно рассчитывать на корректную работу\n",
    "функции"
   ]
  },
  {
   "cell_type": "markdown",
   "id": "2a3d499d",
   "metadata": {},
   "source": [
    "Далее напишем функцию, которая решает СЛАУ $ Ax = b $ с помощью LU разложения\n",
    "\n",
    "Запишем матрицу в виде LU разложение $ A = LU $\n",
    "\n",
    "Тогда система уравнений принимает вид\n",
    "$ LUx = b $ \n",
    "\n",
    "заменим $ y = Ux $\n",
    "\n",
    "Решим систему $ Ly = b $\n",
    "\n",
    "А затем уже систему $ Ux = y $\n",
    "\n",
    "Реализуем это"
   ]
  },
  {
   "cell_type": "code",
   "execution_count": 4,
   "id": "5b44b090",
   "metadata": {},
   "outputs": [],
   "source": [
    "def SolveSystemUsingLU(L, U, b):\n",
    "    n = L.shape[0]\n",
    "    y = np.zeros(n)\n",
    "    #print(\"n = \", n)\n",
    "    y[0] = b[0]\n",
    "    for i in range(1, n):\n",
    "        y[i] = b[i]\n",
    "        for j in range(0, i):\n",
    "            y[i] -= L[i][j] * y[j]\n",
    "            \n",
    "    x = np.zeros(n)\n",
    "    x[n - 1] = y[n - 1] / U[n - 1][n - 1]    \n",
    "    for i in range(n - 2, -1, -1):\n",
    "        cur = y[i]\n",
    "        for j in range(n - 1, i, -1):\n",
    "            cur -= U[i][j] * x[j]\n",
    "        x[i] = cur / U[i][i]\n",
    "    return x"
   ]
  },
  {
   "cell_type": "markdown",
   "id": "a47dad67",
   "metadata": {},
   "source": [
    "Теперь проверим, что данный реализованный метод корректно работает\n",
    "Для этого зададим следующий вектор b\n",
    "\n",
    "$$ b = \\left( \\begin{array}{cccc}\n",
    "                -13 \\\\\n",
    "                11 \\\\\n",
    "                2 \\\\\n",
    "                \\end{array}\n",
    "        \\right)$$\n",
    "        \n",
    " И решим СЛАУ $ Ax = b $. Для матрицы A заданной выше. \n",
    " \n",
    " Правильный ответ на данную задачу.\n",
    " \n",
    " \n",
    " $$ x = \\left( \\begin{array}{cccc}\n",
    "                1 \\\\\n",
    "                1 \\\\\n",
    "                2 \\\\\n",
    "                \\end{array}\n",
    "        \\right)$$"
   ]
  },
  {
   "cell_type": "code",
   "execution_count": 5,
   "id": "6ca5d09c",
   "metadata": {},
   "outputs": [
    {
     "name": "stdout",
     "output_type": "stream",
     "text": [
      "x =  [1. 1. 2.]\n"
     ]
    }
   ],
   "source": [
    "# Задаем вектор b\n",
    "A = np.array([[9, 0, -11], [-9, 8, 6], [18, -80, 32]])\n",
    "b = np.array([-13, 11, 2])\n",
    "\n",
    "x = SolveSystemUsingLU(L, U, b)\n",
    "\n",
    "# Печатаем, получившийся вектор x\n",
    "print(\"x = \", x)\n"
   ]
  },
  {
   "cell_type": "markdown",
   "id": "97dc0af9",
   "metadata": {},
   "source": [
    "Получили правильный ответ. Это может гарантировать работоспособность данной функции. Перейдем теперь ко второй реализации LU разложения\n",
    "\n",
    "***\n",
    "\n",
    "**2 Реализация LU разложения**\n",
    "\n",
    "Реализовать решение СЛАУ с помощью $ LU $ разложения по схеме частичного выбора, функция должна модифицировать исходную матрицу $  A $\n",
    "\n",
    "Схема частичного выбора основано на том, что на каждом k шаге мы выбираем ведущий элемент. Ведущий элемент - это элемент максимальный по модулю в k-ом столбце. Пусть, например, номер  соответствующей строки - $i_{k}$. Cтроки k и $ i_{k} $меняются местами и выполняется преобразование Гаусса. Этот дополнительный прием позволяет избежать нулевых ведущих элементов и ведет к вычислительной устойчивости метода.\n",
    "\n",
    "Так как мы меняем строки матрицы местами, то нам необходимо будет также переставлять строки вектора $ b $ и не забывать при каждый перестановке переставлять строки матрицы $ L $"
   ]
  },
  {
   "cell_type": "code",
   "execution_count": 6,
   "id": "4e426041",
   "metadata": {},
   "outputs": [],
   "source": [
    "# Поиск максимального элемента по модулю k - ом столбце матрицы A\n",
    "def MaxElementInRow(A, k):\n",
    "    max_item = abs(A[k][k])\n",
    "    n = A.shape[0]\n",
    "    for i in range(k + 1, n):\n",
    "        if abs(A[i][k]) > max_item:\n",
    "            max_item = abs(A[i][k])\n",
    "         \n",
    "    # При выходе из функции возвращаем номер строки, в которой был найден максимальный элемент\n",
    "    # и сам этот элемент\n",
    "    for i in range(k, n):\n",
    "        if abs(A[i][k]) == max_item:\n",
    "            return i\n",
    "    \n",
    "\n",
    "    \n",
    "# Реализация второй версии LU разложения, которая модифицирует матрицу A\n",
    "def LUDecompositionVersion2(A, b):\n",
    "    n = A.shape[0]\n",
    "    L = np.eye(n) # Делаем единичную матрицу n * n\n",
    "    for k in range(n - 1):\n",
    "        max_row = MaxElementInRow(A, k)\n",
    "        # Меняем строки местами\n",
    "        tmp = A[max_row].copy()\n",
    "        A[max_row] = A[k]\n",
    "        A[k] = tmp\n",
    "        \n",
    "        tmp = b[max_row].copy()\n",
    "        b[max_row] = b[k]\n",
    "        b[k] = tmp\n",
    "        \n",
    "        if k > 0: \n",
    "            for j in range(k, -1, -1):\n",
    "                tmp = L[max_row][j].copy()\n",
    "                L[max_row][j] = L[k][j]\n",
    "                L[k][j] = tmp\n",
    "        for i in range(k + 1, n):\n",
    "            mu_i_k = A[i][k] / A[k][k]\n",
    "            L[i][k] = mu_i_k\n",
    "            A[i][k] -= A[k][k] * mu_i_k\n",
    "            for j in range(k + 1, n):\n",
    "                A[i][j] -= (mu_i_k * A[k][j])\n",
    "    return L, A"
   ]
  },
  {
   "cell_type": "markdown",
   "id": "16cf2f0f",
   "metadata": {},
   "source": [
    "Теперь проверим работу метода на той же самой системе"
   ]
  },
  {
   "cell_type": "code",
   "execution_count": 7,
   "id": "f14f02cc",
   "metadata": {},
   "outputs": [
    {
     "name": "stdout",
     "output_type": "stream",
     "text": [
      "x =  [1. 1. 2.]\n"
     ]
    }
   ],
   "source": [
    "A = np.array([[9.0, 0.0, -11.0], [-9.0, 8.0, 6.0], [18.0, -80.0, 32.0]])\n",
    "b = np.array([-13, 11, 2])\n",
    "L, U = LUDecompositionVersion2(A, b)\n",
    "x = SolveSystemUsingLU(L, U, b)\n",
    "print(\"x = \", x)"
   ]
  },
  {
   "cell_type": "markdown",
   "id": "5a6beac1",
   "metadata": {},
   "source": [
    "Получили корректный ответ. Следовательно, мы имеем возможность расчитывать на корректность реализованного метода. Перейдем\n",
    "к последней реализации $LU$ разложения\n",
    "\n",
    "***\n",
    "\n",
    "**3 реализация LU разложения**\n",
    "\n",
    "Реализовать метод решения СЛАУ с помощью LU разложения по схеме частичного выбора без перестановки строк"
   ]
  },
  {
   "cell_type": "markdown",
   "id": "24baf08b",
   "metadata": {},
   "source": [
    "Для того, чтобы реализовать алгоритм $ LU $ разложения без перестановки строк. Нам понадобятся матрицa перестановок $ P $\n",
    "\n",
    "Перестановка строк $i$ и $k$ эквивалентна умножение на матрицу $P$, получаемую из единичной матрицы $E$ путем перестановки строк $i$ и $k$\n",
    "\n",
    "То есть на выходе из $LU$ разложения мы будем возвращать кроме матриц $L$ и $U$ также матрицу $P$. Реализуем данный алгоритм"
   ]
  },
  {
   "cell_type": "code",
   "execution_count": 8,
   "id": "8ee2b762",
   "metadata": {},
   "outputs": [],
   "source": [
    "def LUDecompositionVersion3(A):\n",
    "    n = A.shape[0]\n",
    "    L = np.eye(n)\n",
    "    P = np.eye(n)   \n",
    "    for k in range(n - 1):\n",
    "        P_k = np.eye(n)\n",
    "        U_k = np.eye(n)\n",
    "        L_k = np.eye(n)\n",
    "        max_row = MaxElementInRow(A, k)\n",
    "        P_k[max_row], P_k[k] = np.copy(P_k[k]), np.copy(P_k[max_row])\n",
    "        A = P_k @ A\n",
    "        for i in range(k + 1, n):\n",
    "            mu_i_k = A[i][k] / A[k][k]\n",
    "            U_k[i][k] = -mu_i_k\n",
    "            L_k[i][k] = mu_i_k\n",
    "        A = U_k @ A \n",
    "        P = P_k @ P\n",
    "        L = L @ P_k @ L_k\n",
    "    \n",
    "    L = P @ L  \n",
    "    return L, A, P\n",
    "\n",
    "\n",
    "# Решение системы использование матриц L, U, P\n",
    "def SolveSystemUsingLUP(L, U, P, b):\n",
    "    \n",
    "    n = L.shape[0]\n",
    "    y = np.zeros(n)\n",
    "    b = P @ b\n",
    "    #print(\"n = \", n)\n",
    "    y[0] = b[0]\n",
    "    for i in range(1, n):\n",
    "        y[i] = b[i]\n",
    "        for j in range(0, i):\n",
    "            y[i] -= L[i][j] * y[j]\n",
    "            \n",
    "    x = np.zeros(n)\n",
    "    x[n - 1] = y[n - 1] / U[n - 1][n - 1]    \n",
    "    for i in range(n - 2, -1, -1):\n",
    "        cur = y[i]\n",
    "        for j in range(n - 1, i, -1):\n",
    "            cur -= U[i][j] * x[j]\n",
    "        x[i] = cur / U[i][i]\n",
    "    return x"
   ]
  },
  {
   "cell_type": "markdown",
   "id": "a6ee8268",
   "metadata": {},
   "source": [
    "Проведем проверку метода также как у предыдущих двух реализациях"
   ]
  },
  {
   "cell_type": "code",
   "execution_count": 9,
   "id": "b82a36bd",
   "metadata": {},
   "outputs": [
    {
     "name": "stdout",
     "output_type": "stream",
     "text": [
      "L =  [[ 1.   0.   0. ]\n",
      " [ 0.5  1.   0. ]\n",
      " [-0.5 -0.8  1. ]]\n",
      "U =  [[ 18.  -80.   32. ]\n",
      " [  0.   40.  -27. ]\n",
      " [  0.    0.    0.4]]\n",
      "P =  [[0. 0. 1.]\n",
      " [1. 0. 0.]\n",
      " [0. 1. 0.]]\n",
      "x =  [1. 1. 2.]\n"
     ]
    }
   ],
   "source": [
    "A = np.array([[9, 0, -11], [-9, 8, 6], [18, -80, 32]])\n",
    "b = np.array([-13, 11, 2])\n",
    "L, U, P = LUDecompositionVersion3(A)\n",
    "print(\"L = \", L)\n",
    "print(\"U = \", U)\n",
    "print(\"P = \", P)\n",
    "x = SolveSystemUsingLUP(L, U, P, b)\n",
    "print(\"x = \", x)"
   ]
  },
  {
   "cell_type": "markdown",
   "id": "165aa901",
   "metadata": {},
   "source": [
    "Теперь решим систему, заданную в моем варианта\n",
    "\n",
    "Элементы матрицы $A$ задаются по формуле $a_{ij} = \\sin^{20 - j}{(i + 1)}$\n",
    "\n",
    "Решим систему 5 на 5, заданной данной формулой, всеми 3 способами. Вектор $ x $ задается следующей формулой $x_i = 17$\n",
    "\n",
    "При этом матрица $A$ является возмущенной. К одному из ее элементов следует прибавить $10^{-3}$"
   ]
  },
  {
   "cell_type": "code",
   "execution_count": 10,
   "id": "67cc7ab4",
   "metadata": {},
   "outputs": [
    {
     "name": "stdout",
     "output_type": "stream",
     "text": [
      "x1 =  [17. 17. 17. 17. 17.]\n",
      "x2 =  [17. 17. 17. 17. 17.]\n",
      "x3 =  [17. 17. 17. 17. 17.]\n"
     ]
    }
   ],
   "source": [
    "# Задаем матрицу A и вектор x\n",
    "x = np.array([17] * 5)\n",
    "A = np.ones((5, 5))\n",
    "for i in range(5):\n",
    "    for j in range(5):\n",
    "        A[i][j] = (np.sin(i + 1))**(20-j)\n",
    "        \n",
    "A[0][0] += 10**(-3)\n",
    "b = A @ x \n",
    "\n",
    "\n",
    "# Первая реализация LU разложения\n",
    "L, U = LUDecompositionVersion1(A)\n",
    "x1 = SolveSystemUsingLU(L, U, b)\n",
    "print(\"x1 = \", x1)\n",
    "\n",
    "x = np.array([17] * 5)\n",
    "A = np.ones((5, 5))\n",
    "for i in range(5):\n",
    "    for j in range(5):\n",
    "        A[i][j] = (np.sin(i + 1))**(20-j)\n",
    "        \n",
    "A[0][0] += 10**(-3)       \n",
    "\n",
    "b = A @ x \n",
    "\n",
    "# Вторая реализация lU разложения\n",
    "L, U = LUDecompositionVersion2(A, b)\n",
    "x2 = SolveSystemUsingLU(L, U, b)\n",
    "print(\"x2 = \", x2)\n",
    "\n",
    "x = np.array([17] * 5)\n",
    "A = np.ones((5, 5))\n",
    "for i in range(5):\n",
    "    for j in range(5):\n",
    "        A[i][j] = (np.sin(i + 1))**(20-j)\n",
    "        \n",
    "A[0][0] += 10**(-3)\n",
    "b = A @ x \n",
    "\n",
    "# Вторая реализация lU разложения\n",
    "L, U, P = LUDecompositionVersion3(A)\n",
    "x3 = SolveSystemUsingLUP(L, U, P, b)\n",
    "print(\"x3 = \", x3)"
   ]
  },
  {
   "cell_type": "markdown",
   "id": "cb13a234",
   "metadata": {},
   "source": [
    "Теперь вычислим погрешность вычисления вектора $x$ с помощью трех реализаций.\n",
    "\n",
    "Относительная погрешность вектора $x $ может быть найдена по формуле $\\delta x = \\frac{\\left|\\left|x^{*} - x\\right|\\right|}{\\left|\\left|x^{*}\\right|\\right|}$\n",
    "\n",
    "Где $x^{*}$ точное значение вектора, а $x$ приближеное. Будем проводить вычисления в бесконечной норме"
   ]
  },
  {
   "cell_type": "code",
   "execution_count": 11,
   "id": "0856c61c",
   "metadata": {},
   "outputs": [
    {
     "name": "stdout",
     "output_type": "stream",
     "text": [
      "Первый вектор:  5.642545254565501e-15\n",
      "Второй вектор:  5.851528412142001e-15\n",
      "Третий вектор:  5.851528412142001e-15\n"
     ]
    }
   ],
   "source": [
    "# Бесконечная норма вектора\n",
    "def InfinityNormVector(x):\n",
    "    n = x.shape[0]\n",
    "    max = abs(x[0])\n",
    "    for i in range(n):\n",
    "        if abs(x[i]) > max:\n",
    "            max = abs(x[i])\n",
    "    return max\n",
    "\n",
    "def Deltax(x, x_approximate):\n",
    "    return InfinityNormVector(x - x_approximate) / InfinityNormVector(x)\n",
    "\n",
    "print(\"Первый вектор: \", Deltax(x, x1))\n",
    "print(\"Второй вектор: \", Deltax(x, x2))\n",
    "print(\"Третий вектор: \", Deltax(x, x3))"
   ]
  },
  {
   "cell_type": "markdown",
   "id": "38957d6c",
   "metadata": {},
   "source": [
    "**Вывод:** имеем пока, что приблизительно равные относительные погрешности. Сравним их с теоретической оценкой. Для этого\n",
    "воспользуемся следующей формулой.\n",
    "\n",
    "$$ \\delta x \\leq cond(A) (\\delta A + \\delta b)$$\n",
    "\n",
    "где $ cond(A) $ - число обусловленности матрицы A, вычисляемое по формуле \n",
    "$ cond(A) = \\left|\\left|A\\right|\\right| \\left|\\left|A^{-1}\\right|\\right| $\n",
    "\n",
    "Норму будем попрежнему считать бесконечную. Для того, чтобы посчитать число обусловленности матрицы\n",
    "$A$ воспользуемся стандартной библиотечной функцией для поиска обратной матрицы $A^{-1} $. Относительную погрешность матрицы A найдем из того факта, что мы к ней прибавили число $ 10^{-3}$ Также поступим для вектора $b$"
   ]
  },
  {
   "cell_type": "code",
   "execution_count": 12,
   "id": "7a308b56",
   "metadata": {},
   "outputs": [
    {
     "name": "stdout",
     "output_type": "stream",
     "text": [
      "delta x theory =  0.0\n"
     ]
    }
   ],
   "source": [
    "# Функция вычисления бесконечной нормы матрицы\n",
    "def InfinityNormMatrix(A):\n",
    "    max = 0\n",
    "    n = A.shape[0]\n",
    "    for i in range(n):\n",
    "        sum = 0\n",
    "        for j in range(n):\n",
    "            sum += abs(A[i][j])\n",
    "        if sum > max:\n",
    "            max = sum\n",
    "    return max\n",
    "\n",
    "def DeltaA(A, A_approximate):\n",
    "    return InfinityNormMatrix(A - A_approximate) / InfinityNormMatrix(A)\n",
    "\n",
    "def CondA(A):\n",
    "    return InfinityNormMatrix(A) * InfinityNormMatrix(linalg.inv(A))\n",
    "\n",
    "A = np.ones((5, 5))\n",
    "for i in range(5):\n",
    "    for j in range(5):\n",
    "        A[i][j] = (np.sin(i + 1))**(20-j)\n",
    "A1 = A        \n",
    "A1[0][0] += 10**(-3)\n",
    "\n",
    "b = A @ x\n",
    "b1 = A1 @ x\n",
    "\n",
    "deltax = CondA(A1) * (Deltax(b, b1) + DeltaA(A, A1))\n",
    "print(\"delta x theory = \", deltax)"
   ]
  },
  {
   "cell_type": "markdown",
   "id": "1962fa87",
   "metadata": {},
   "source": [
    "Имеем теоретическую погрешность слишком маленькую, скорее всего это не точно число ноль, но из-за особенностей машинной арифметики оно вышло равным нулю. Относительная погрешность, которую мы получили на практика также была близка к нулю. Следовательно мы можем быть скорее всего уверены в правильности реализованного алгоритма и найденного решения.\n",
    "\n",
    "\n",
    "***\n",
    "\n",
    "**Построение графиков**\n",
    "\n",
    "Теперь построим графики погрешностей каждого из трех методов LU разложения. Элементы матрицы $A$ задаются по формуле $a_{ij} = \\sin^{20 - j}{(i + 1)}$. $ n $ будет изменяться от 5 до 15.К элементу $ A[0][0] $ мы прибавляем $ 10^{-3} $. Вектор $ x $ задается следующим образом $ x_i = N $, N - номер варианта. N = 17. Для того, чтобы построить графики заведем массивы относительных погрешностей delta1, delta2, delta3 куда будем складывать относительную погрешность каждого из трех методов на каждом шаге алгоритма"
   ]
  },
  {
   "cell_type": "code",
   "execution_count": 13,
   "id": "2e46b840",
   "metadata": {},
   "outputs": [],
   "source": [
    "# Функция генерирующая матрицу A необходимо размера\n",
    "def MakeMatrix(n):\n",
    "    A = np.eye(n)\n",
    "    for i in range(n):\n",
    "        for j in range(n):\n",
    "            A[i][j] = (np.sin(i + 1))**(20-j)\n",
    "    return A\n",
    "            \n",
    "delta1 = [] # Массив погрешностей первой реализации LU разложения\n",
    "delta2 = [] # Массив погрешностей второй реализации LU разложения\n",
    "delta3 = [] # Массив погрешностей третьей реализации LU разложения\n",
    "\n",
    "N = 17\n",
    "\n",
    "def MakeVectorX(n):\n",
    "    x = np.ones(n)\n",
    "    for i in range(n):\n",
    "        x[i] = 17\n",
    "    return x\n",
    "        \n",
    "\n",
    "for n in range(5, 16):\n",
    "    A = MakeMatrix(n)\n",
    "    x = MakeVectorX(n)\n",
    "    A[0][0] += 10**(-3)\n",
    "    b = A @ x\n",
    "    L, U = LUDecompositionVersion1(A)\n",
    "    x_sol = SolveSystemUsingLU(L, U, b)\n",
    "    delta1.append(Deltax(x, x_sol))\n",
    "    \n",
    "    A = MakeMatrix(n)\n",
    "    x = MakeVectorX(n)\n",
    "    A[0][0] += 10**(-3)\n",
    "    b = A @ x\n",
    "    L, U = LUDecompositionVersion2(A, b)\n",
    "    x_sol = SolveSystemUsingLU(L, U, b)\n",
    "    delta2.append(Deltax(x, x_sol))\n",
    "    \n",
    "    A = MakeMatrix(n)\n",
    "    x = MakeVectorX(n)\n",
    "    A[0][0] += 10**(-3)\n",
    "    b = A @ x\n",
    "    L, U, P = LUDecompositionVersion3(A)\n",
    "    x_sol = SolveSystemUsingLUP(L, U, P, b)\n",
    "    delta3.append(Deltax(x, x_sol))"
   ]
  },
  {
   "cell_type": "markdown",
   "id": "3f74f0a2",
   "metadata": {},
   "source": [
    "Завели массивы относительных погрешностей теперь построим графики"
   ]
  },
  {
   "cell_type": "code",
   "execution_count": 14,
   "id": "f2c13e3b",
   "metadata": {},
   "outputs": [
    {
     "data": {
      "text/plain": [
       "<matplotlib.legend.Legend at 0x2a9b43bf820>"
      ]
     },
     "execution_count": 14,
     "metadata": {},
     "output_type": "execute_result"
    },
    {
     "data": {
      "image/png": "[encoded data removed]",
      "text/plain": [
       "<Figure size 1080x360 with 3 Axes>"
      ]
     },
     "metadata": {
      "needs_background": "light"
     },
     "output_type": "display_data"
    }
   ],
   "source": [
    "fig, axs = plt.subplots(1, 3, figsize = (15, 5))\n",
    "axs[0].plot(range(5, 16), delta1, label = '1 метод')\n",
    "axs[1].plot(range(5, 16), delta2, label = '2 метод')\n",
    "axs[2].plot(range(5, 16), delta2, label = '3 метод')\n",
    "axs[0].legend()\n",
    "axs[1].legend()\n",
    "axs[2].legend()"
   ]
  },
  {
   "cell_type": "markdown",
   "id": "63f5b213",
   "metadata": {},
   "source": [
    "**Вывод:** по графикам видно, что относительная погрешность первого метода растет быстрее тем у второго и третьего. Этот факт подчеркивает нам, что выбирая опорный элемент мы уменшаем погрешность вычисления вектора x, так как в данном случае у нас опорный элемент точно не будет равен нулю. Графики у второго и третьего метода идентичны, потому что выполняем мы там одни и те же действия. Только в разной форме. В одном случае мы осуществляем перестановку строк сразу, а в другом нет, используя для этого матрицу перестановок"
   ]
  },
  {
   "cell_type": "markdown",
   "id": "113c36ba",
   "metadata": {},
   "source": [
    "## Задание 3.2\n",
    "\n",
    "Дана система уравнений  $ Ax=b $  порядка $n$ с разреженной матрицей $A$. Решить систему прямым методом\n",
    "\n",
    "В моем случае система задается следующим образом: на главной диагонали элементы равны  30 , в 4-ом столбце и на по-бочной диагонали элементы равны 10. Размер матрицы равен 30. В случае коллизий в матрице диагонали имеют приоритет над столбцами, главные диагонали – над побочными\n",
    "\n",
    "Запишем матрицу этой системы в подробном виде\n",
    "\n",
    "$$ A = \\left(\n",
    "\\begin{array}{cccc}\n",
    "30 & 0 & 0 & 10 & \\ldots & 0 & 10 \\\\\n",
    "0 & 30 & 0 & 10 & \\ldots & 10 & 0\\\\\n",
    "\\vdots & \\vdots & \\vdots & \\vdots & \\ddots & \\vdots & \\vdots \\\\\n",
    "10 & 0 & 0 & 10 & \\ldots &  0 & 30\\\\\n",
    "\\end{array}\n",
    "\\right) $$\n",
    "\n",
    "Запишем это в виде системы $ Ax = b $\n",
    "\n",
    "$$  \n",
    "\\begin{cases}\n",
    "        30x_1 + 10x_4 +  10x_{30} &= b_1 \\\\\n",
    "        30x_2 + 10x_4 +  10x_{29} &= b_2 \\\\\n",
    "        30x_3 + 10x_4 +  10x_{28} &= b_3 \\\\\n",
    "        30x_4 + 10x_{27} &= b_4 \\\\\n",
    "        \\cdots \\\\ \n",
    "        10x_4 + 30x_{27} &= b_{27} \\\\\n",
    "        \\cdots \\\\\n",
    "        10x_2 + 10x_4 + 30x_{29} &= b_{29} \\\\\n",
    "        10x_1 +  10x_4 +  30x_{30} &= b_{30}\n",
    "\\end{cases}\n",
    "$$\n",
    "\n",
    "***\n",
    "Обратим внимание на 4 и 27 уравнение системы. Выпишем их отдельно\n",
    "\n",
    "$$ \\begin{cases}\n",
    "        30x_4 + 10x_{27} = b_4 \\\\\n",
    "        10x_4 + 30x_{27} = b_{27} \\\\\n",
    "\\end{cases} $$ \n",
    "\n",
    "Очевидно, что мы лего можем выразить $x_4$ и $x_{27}$ с помощью этих уравнений. Получаем\n",
    "\n",
    "$$ \\begin{cases}\n",
    "        x_4 = \\frac{3b_4 - b_{27}}{80} \\\\\n",
    "        x_{27} = \\frac{3b_{27} - b_4}{80} \\\\\n",
    "\\end{cases} $$ \n",
    "\n",
    "Так найдя $x_4$ и $x_{27}$  Мы получим уже систему уравнений, в которой будут выгурировать только две переменные \n",
    "\n",
    "Для простоты обозначим $x_{4} = d$\n",
    "\n",
    "Перепишем тогда систему в новых обозначениях исключая уже ненужные уравнения 4 и 27\n",
    "\n",
    "$$  \n",
    "\\begin{cases}\n",
    "        30x_1 + 10x_{30} &= b_1 - 10d \\\\\n",
    "        30x_2 + 10x_{29} &= b_2 - 10d \\\\\n",
    "        30x_3  +  10x_{28} &= b_3 - 10d \\\\\n",
    "        \\cdots \\\\ \n",
    "        10x_2 + 30x_{29} &= b_{29} - 10d \\\\\n",
    "        10x_1 +  30x_{30} &= b_{30} - 10d \\\\\n",
    "\\end{cases}\n",
    "$$\n",
    "\n",
    "ОБрати внимание на 1 и 30 уравнения, на 2 и и 29 уравнения и т.д на 15 и 16 уравнения. Видно, что из них можно найти все необходимые нам неизвестные $x_1, x_2, ..., x_{29}, x_{30}$"
   ]
  },
  {
   "cell_type": "markdown",
   "id": "5deafe91",
   "metadata": {},
   "source": [
    "Подведя итоги запишем этот алгоритм в общем случае n систем уравнений. Пусть a - массив, задающий элементы на главной диагонали, b - массив элементов на побочной диагонали, c - массив элементов в 4 стоблце, d - вектор столбец\n",
    "\n",
    "Запишем систему в общем виде \n",
    "\n",
    "\n",
    "$$  \n",
    "\\begin{cases}\n",
    "        a_1 x_1 + c_1 x_4 +  b_1 x_{n} &= d_1 \\\\\n",
    "        a_2 x_2 + c_2 x_4 +  b_2 x_{n - 1} &= d_2 \\\\\n",
    "        a_3 x_3 + c_3 x_4 +  b_3 x_{n - 2} &= d_3 \\\\\n",
    "        a_4 x_4 + b_4 x_{n - 3} &= d_4 \\\\\n",
    "        \\cdots \\\\ \n",
    "        b_{n-3} x_4 + a_{n - 3} x_{n-3} &= d_{n - 3} \\\\\n",
    "        b_{n-2} x_3 + c_{n-2} x_4 + a_{n-2} x_{n - 2} &= d_{n - 2} \\\\\n",
    "        b_{n-1} x_2 + c_{n-1} x_4 + a_{n-1} x_{n - 1} &= d_{n - 1} \\\\\n",
    "        b_{n} x_1 + c_{n} x_4 + a_{n} x_{n} &= d_{n} \\\\\n",
    "\\end{cases}\n",
    "$$"
   ]
  },
  {
   "cell_type": "markdown",
   "id": "da575cb5",
   "metadata": {},
   "source": [
    "**Первый шаг** из 4 и n - 3 уравнений находим $x_4, x_{n-3}$. По формулам\n",
    "\n",
    "$$ \\begin{cases}\n",
    "        x_4 = \\frac{b_4 d_{n-3} - d_4 a_{n-3}}{b_4 b_{n-3} - a_4 a_{n-3}} \\\\\n",
    "        x_{n-3} = \\frac{a_4 d_{n - 3} - d_4 b{n - 3}}{a_4 a_{n - 3} - b_4 b_{n - 3}} \\\\\n",
    "\\end{cases} $$\n",
    "\n",
    "**Второй шаг** Для удобства обозначаем $x_4 = q$ Находим оставшиеся переменные по формулам\n",
    "\n",
    "$$ \\begin{cases}\n",
    "        x_i = \\frac{b_i d_{n- i + 1} - d_i a_{n- i + 1} - b_i c_{n - i + 1} q + c_i a_{n - i + 1}q}\n",
    "        {b_i b_{n - i + 1} - a_i a_{n - i + 1}} \\\\\n",
    "        x_{n - i + 1} = \\frac{a_i d_{n - i + 1} - d_i b{n - i + 1} - a_i c_{n - i + 1} q + c_i b_{n - i + 1}q\n",
    "        }{a_i a_{n - i + 1} - b_i b_{n - i + 1}} \\\\\n",
    "\\end{cases} $$\n",
    "\n",
    "i изменяется от 1 до n / 2 и при этом i != 4\n",
    "\n",
    "Также надо забыть неучесть случай нечетного n. Тогда в строке (n - 1) 2 идет пересечение элементов на главной и побочной диагонали. И $ x_{(n - 1) / 2} $ находится по формуле\n",
    "\n",
    "$$ x_{(n - 1)/2} = \\frac{d_{(n - 1)/2} - c_3 q}{a_{(n - 1) / 2}}$$\n",
    "\n",
    "Теперь имея полное представление о данном алгоритме реализуем его"
   ]
  },
  {
   "cell_type": "code",
   "execution_count": 6,
   "id": "72adbcef",
   "metadata": {},
   "outputs": [],
   "source": [
    "# Функция, решающая систему с данной разреженной матрицей\n",
    "def SolveSystem(a, b, c, d):\n",
    "    n = a.shape[0]\n",
    "    x = np.zeros(n) # решение системы\n",
    "    # Первый шаг алгоритма \n",
    "    x[3] = (b[3] * d[n - 4] - d[3] * a[n - 4]) / (b[3] * b[n - 4] - a[3] * a[n - 4])\n",
    "    x[n - 4] = (a[3] * d[n - 4] - d[3] * b[n - 4]) / (a[3] * a[n - 4] - b[3] * b[n - 4])\n",
    "    q = x[3]\n",
    "    # Второй шаг алгоритма\n",
    "    for i in range(0, n // 2):\n",
    "        if i != 3 and i != n - 4:\n",
    "            x[i] = (b[i] * d[n - i - 1] - d[i] * a[n - i - 1] - b[i] * c[n - i - 1] * q + c[i] * a[n - i - 1] * q) / (b[i] * b[n - i - 1] - a[i] * a[n - i - 1])\n",
    "            x[n - i - 1] = (a[i] * d[n - i - 1] - d[i] * b[n - i - 1] - a[i] * c[n - i - 1] * q + c[i] * b[n - i - 1] * q) / (a[i] * a[n - i - 1] - b[i] * b[n - i - 1])\n",
    "    \n",
    "    # Проверяем случай нечетного n\n",
    "    if (n % 2 != 0):\n",
    "        x[n // 2] = (d[n // 2] - c[2] * q) / a[n//2]\n",
    "    return x"
   ]
  },
  {
   "cell_type": "markdown",
   "id": "f3ca37e3",
   "metadata": {},
   "source": [
    "Теперь решим систему для тестового примера. Возьмем следующую матрицу A и вектор d\n",
    "\n",
    "  $$  A = \\left(\n",
    "        \\begin{array}{cccc}\n",
    "         10 & 0 & 0 & 2 & -7 \\\\\n",
    "         0 & 15 & 0 & 1 & 0 \\\\\n",
    "         0 & 0 & 20 & 3 & 0 \\\\\n",
    "         0 & 2 & 0 & -10 & 0 \\\\\n",
    "         3 & 0 & 0 & 4 & 30 \\\\\n",
    "        \\end{array}\n",
    "        \\right) $$\n",
    "        \n",
    "   $$ d = \\left(\n",
    "        \\begin{array}{cccc}\n",
    "         59 \\\\\n",
    "         106 \\\\\n",
    "         43 \\\\\n",
    "         4 \\\\\n",
    "         -11 \\\\\n",
    "        \\end{array}\n",
    "        \\right) $$\n",
    "\n"
   ]
  },
  {
   "cell_type": "markdown",
   "id": "79599f5c",
   "metadata": {},
   "source": [
    "Правильный ответ на эту систему следующий\n",
    "\n",
    "$$ x = \\left(\n",
    "        \\begin{array}{cccc}\n",
    "         5 \\\\\n",
    "         7 \\\\\n",
    "         2 \\\\\n",
    "         1 \\\\\n",
    "         -1 \\\\\n",
    "        \\end{array}\n",
    "        \\right) $$\n",
    "        \n",
    "Если алгоритм выведет корректный ответ, то можно рассчитывать на корректность его работы"
   ]
  },
  {
   "cell_type": "code",
   "execution_count": 7,
   "id": "76d823e3",
   "metadata": {},
   "outputs": [
    {
     "name": "stdout",
     "output_type": "stream",
     "text": [
      "x =  [ 5.  7.  2.  1. -1.]\n"
     ]
    }
   ],
   "source": [
    "# Задаем одномерные массивы\n",
    "a = np.array([10, 15, 20, -10, 30])\n",
    "b = np.array([-7, 1, 20, 2, 3])\n",
    "c = np.array([2, 1, 3, -10, 4])\n",
    "d = np.array([59, 106, 43, 4, -11])\n",
    "\n",
    "x = SolveSystem(a, b, c, d)\n",
    "\n",
    "print(\"x = \", x)"
   ]
  },
  {
   "cell_type": "markdown",
   "id": "0a19a113",
   "metadata": {},
   "source": [
    "Получили корректный вектор x. Теперь применим эту функцию для системы порядка 30. \n",
    "Система задается следующим образом: на главной диагонали элементы равны  30 , в 4-ом столбце и на по-бочной диагонали элементы равны 10. Размер матрицы равен 30. В случае коллизий в матрице диагонали имеют приоритет над столбцами, главные диагонали – над побочными.\n",
    "\n",
    "Вектор d задается по формуле: $ d_i = i \\cdot e^{\\frac{22}{i}} \\sin {\\frac{9}{i}}$ i = 1,..,30\n",
    "\n",
    "Зададим теперь все эти параметры и решим данную систему"
   ]
  },
  {
   "cell_type": "code",
   "execution_count": 8,
   "id": "769a2481",
   "metadata": {},
   "outputs": [
    {
     "name": "stdout",
     "output_type": "stream",
     "text": [
      "x =  [ 5.54028246e+07 -4.39697185e+03  1.69780254e+01  2.83088046e+01\n",
      "  7.53844185e+00  1.43763233e+00 -1.51537399e+00 -3.12842975e+00\n",
      " -4.10173271e+00 -4.73711816e+00 -5.17914073e+00 -5.50352036e+00\n",
      " -5.75306925e+00 -5.95371652e+00 -6.12228201e+00 -6.27057259e+00\n",
      " -6.40777097e+00 -6.54206824e+00 -6.68210756e+00 -6.83874883e+00\n",
      " -7.02791415e+00 -7.27609578e+00 -7.63244345e+00 -8.19832303e+00\n",
      " -9.20773076e+00 -1.12637624e+01 -8.77112011e+00 -1.44486932e+01\n",
      "  1.45685138e+03 -1.84676170e+07]\n"
     ]
    }
   ],
   "source": [
    "d = np.zeros(30)\n",
    "for i in range(30):\n",
    "    d[i] = (i + 1) * np.exp(22 / (i + 1)) * np.sin(9 / (i + 1))\n",
    "a = np.full(30, 30)\n",
    "b = np.full(30, 10)\n",
    "c = np.full(30, 10)\n",
    "c[3] = 30\n",
    "c[26] = 10\n",
    "\n",
    "x = SolveSystem(a, b, c, d)\n",
    "print(\"x = \", x)\n"
   ]
  },
  {
   "cell_type": "markdown",
   "id": "c8a3e08d",
   "metadata": {},
   "source": [
    "## Задание 3.3"
   ]
  },
  {
   "cell_type": "markdown",
   "id": "7a84b32d",
   "metadata": {},
   "source": [
    "Решить задачу итерационным методом. указанным в  индивидуальном варианте. Вектор правой части задается как\n",
    "$ b = Ax $ , где $ x_i = N $"
   ]
  },
  {
   "cell_type": "markdown",
   "id": "5cf0fb54",
   "metadata": {},
   "source": [
    "В моем случае это метод минимальных невязок. Размер матрицы m = 26. Элементы матрицы A задаются по формуле\n",
    "$\\frac{\\cos{(i + j)}}{0.1 \\beta} + 0.1 \\beta e^{-(i - j)^2}$. Где $ \\beta $ равно\n",
    "$\\beta = (\\left|66 - N\\right| + 5) \\cdot m $; N = 17"
   ]
  },
  {
   "cell_type": "markdown",
   "id": "834fe96d",
   "metadata": {},
   "source": [
    "Напишем алгоритм метода минимальных невязок"
   ]
  },
  {
   "cell_type": "markdown",
   "id": "95d0e593",
   "metadata": {},
   "source": [
    "1. Задаем начальное приближение $x^{(0)}$\n",
    "2. Далее вычисляем вектор n-ой невязки $r^{(n)}$ по формуле $r^{(n)} = Ax^{(n)} - b$\n",
    "3. Вычисляем параметр $\\tau_{n + 1}$ по формуле $\\tau_{n + 1} = \\frac{\\left(Ar^{(n)}, r^{(n)}\\right)}{\\left(Ar^{(n)}, Ar^{(n)}\\right)}$\n",
    "4. Вычисляем $ x_{n+1} $ по формуле $x^{(n+1)} = x^{(n)} - \\tau_{n+1} r^{(n)} $\n",
    "5. Вычисление ведутся до тех пор пока $ \\frac{\\left|\\left| r^{(n)} \\right|\\right|}{\\left|\\left|r^{(0)}\\right|\\right|} \\leq \\varepsilon $\n",
    "\n",
    "В качестве нормы выберем бесконечную норму. Перейдем к реализации указанного алгоритма. Начальное приближение $x^{(0)}$ зададим равным вектору b "
   ]
  },
  {
   "cell_type": "code",
   "execution_count": 17,
   "id": "8e2f46e4",
   "metadata": {},
   "outputs": [],
   "source": [
    "# Бесконечная норма вектора\n",
    "def InfinityNormVector(x):\n",
    "    n = x.shape[0]\n",
    "    max = abs(x[0])\n",
    "    for i in range(n):\n",
    "        if (abs(x[i]) > max):\n",
    "            max = abs(x[i])\n",
    "    return max\n",
    "\n",
    "\n",
    "# Метод минимальных невязок реализация\n",
    "def MinimumResidualMethod(A, b, eps):\n",
    "    x_n_1 = b\n",
    "    r_0 = b\n",
    "    r_n = r_0\n",
    "    tau_n = np.sum((A @ r_n) * r_n) / np.sum((A @ r_n) * (A @ r_n))\n",
    "    x_n = x_n_1 - tau_n * r_n\n",
    "    while (InfinityNormVector(r_n) / InfinityNormVector(r_0)) >= eps:\n",
    "        x_n_1 = x_n\n",
    "        r_n = A @ x_n_1 - b\n",
    "        tau_n = np.sum((A @ r_n) * r_n) / np.sum((A @ r_n) * (A @ r_n))\n",
    "        x_n = x_n_1 - tau_n * r_n\n",
    "    return x_n"
   ]
  },
  {
   "cell_type": "markdown",
   "id": "a57f1140",
   "metadata": {},
   "source": [
    "Теперь проверим работу этого метода."
   ]
  },
  {
   "cell_type": "code",
   "execution_count": 18,
   "id": "d7e21d16",
   "metadata": {},
   "outputs": [
    {
     "name": "stdout",
     "output_type": "stream",
     "text": [
      "x_func =  [17. 17. 17. 17. 17. 17. 17. 17. 17. 17. 17. 17. 17. 17. 17. 17. 17. 17.\n",
      " 17. 17. 17. 17. 17. 17. 17. 17.]\n"
     ]
    }
   ],
   "source": [
    "m = 26\n",
    "N = 17\n",
    "beta = (abs(66 - N) + 5) * m\n",
    "A = np.ones((26, 26))\n",
    "\n",
    "\n",
    "for i in range(0, m):\n",
    "    for j in range(0, m):\n",
    "        A[i][j] = np.math.cos(i + j) / (0.1 * beta) + 0.1 * beta * np.exp(-(i - j)**2)\n",
    "        \n",
    "\n",
    "x = np.array([17]*26)\n",
    "b = A @ x\n",
    "\n",
    "x_func = MinimumResidualMethod(A, b, 10**(-14))\n",
    "print(\"x_func = \", x_func)"
   ]
  },
  {
   "cell_type": "markdown",
   "id": "df79357a",
   "metadata": {},
   "source": [
    "Получили тот же самый вектор x. Следовательно, метод реализован корректно"
   ]
  }
 ],
 "metadata": {
  "kernelspec": {
   "display_name": "Python 3 (ipykernel)",
   "language": "python",
   "name": "python3"
  },
  "language_info": {
   "codemirror_mode": {
    "name": "ipython",
    "version": 3
   },
   "file_extension": ".py",
   "mimetype": "text/x-python",
   "name": "python",
   "nbconvert_exporter": "python",
   "pygments_lexer": "ipython3",
   "version": "3.9.7"
  }
 },
 "nbformat": 4,
 "nbformat_minor": 5
}
