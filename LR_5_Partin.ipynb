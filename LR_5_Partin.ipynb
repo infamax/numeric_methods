{
 "cells": [
  {
   "cell_type": "markdown",
   "id": "63fc18a1",
   "metadata": {},
   "source": [
    "# Лабораторная работа №5\n",
    "## Партин Максим\n",
    "## А-13а-20\n",
    "### Вариант № 32"
   ]
  },
  {
   "cell_type": "markdown",
   "id": "2ced0a94",
   "metadata": {},
   "source": [
    "## Задание 5.1\n",
    "\n",
    "\n",
    "Вычислить значение интеграла $$\\int\\limits_1^3 P_m(x)\\,dx$$\n",
    "\n",
    "где $$ P_m(x) = \\sum\\limits_{i=0}^m{c_i x^i} $$\n",
    "\n",
    "с помощью элементарных  квадратурных  формул  левых прямоугольников и по формуле индивидуального варианта.  Затем, используя априорную оценку погрешности, оценить шаг интегрирования h, требуемый для достижения  точности  $\\varepsilon = 0.0001$. Вычислить интеграл с найденным шагом интегрирования."
   ]
  },
  {
   "cell_type": "markdown",
   "id": "d95de63d",
   "metadata": {},
   "source": [
    "Значения коээфициентов $ c_i $ в моем варианте\n",
    "\n",
    "$ c_0 $ | $ c_1 $ | $ c_2 $ | $ c_3 $ | $ c_4 $ | $ c_5 $\n",
    "--- | --- | --- | --- | --- | ---\n",
    "$ 2.2 $ | $ -4.1 $ | $0.3$ | $-3.4$ | $0$ | $0$\n",
    "\n"
   ]
  },
  {
   "cell_type": "markdown",
   "id": "e4f7540d",
   "metadata": {},
   "source": [
    "Зададим заданную функцию"
   ]
  },
  {
   "cell_type": "code",
   "execution_count": 1,
   "id": "676a6f52",
   "metadata": {},
   "outputs": [],
   "source": [
    "import numpy as np\n",
    "import matplotlib.pyplot as plt\n",
    "import scipy.integrate as integrate\n",
    "\n",
    "# Заданная функция\n",
    "c = np.array([2.2, -4.1, 0.3, -3.4, 0, 0])\n",
    "def f(x: np.float64) -> np.float64:\n",
    "    f = 0\n",
    "    for i in range(len(c)):\n",
    "        f += c[i] * np.power(x, i)\n",
    "    return f"
   ]
  },
  {
   "cell_type": "markdown",
   "id": "de1a130c",
   "metadata": {},
   "source": [
    "Покажем графически отрезок, на котором происходит интегрирование. Для этого построим график функции на отрезке от $[1, 3]$"
   ]
  },
  {
   "cell_type": "code",
   "execution_count": 19,
   "id": "76954e20",
   "metadata": {},
   "outputs": [
    {
     "data": {
      "image/png": "[encoded data removed]",
      "text/plain": [
       "<Figure size 432x288 with 1 Axes>"
      ]
     },
     "metadata": {
      "needs_background": "light"
     },
     "output_type": "display_data"
    }
   ],
   "source": [
    "a = 1\n",
    "b = 3\n",
    "x = np.linspace(a, b, 10000)\n",
    "y = np.array(list(map(f, x)))\n",
    "plt.fill_between(x, y, np.min(y),\n",
    "                color = 'blue',\n",
    "                alpha = 0.2,\n",
    "                label = '$f(x)$')\n",
    "plt.legend()\n",
    "plt.show()"
   ]
  },
  {
   "cell_type": "markdown",
   "id": "d9c77283",
   "metadata": {},
   "source": [
    "Вычислим данный интеграл, используя средства python"
   ]
  },
  {
   "cell_type": "code",
   "execution_count": 20,
   "id": "895149cc",
   "metadata": {},
   "outputs": [
    {
     "data": {
      "text/plain": [
       "-77.39999999999999"
      ]
     },
     "execution_count": 20,
     "metadata": {},
     "output_type": "execute_result"
    }
   ],
   "source": [
    "I = integrate.quad(f, a, b)\n",
    "I[0]"
   ]
  },
  {
   "cell_type": "markdown",
   "id": "984d86ec",
   "metadata": {},
   "source": [
    "Получили такое теоретическое значение"
   ]
  },
  {
   "cell_type": "markdown",
   "id": "2dffb579",
   "metadata": {},
   "source": [
    "## Вычисление интеграла по формуле левых прямоугольников"
   ]
  },
  {
   "cell_type": "markdown",
   "id": "e1668832",
   "metadata": {},
   "source": [
    "Теоретическая справка про метод левых прямоугольников\n",
    "\n",
    "Формула для вычисления:\n",
    "\n",
    "$$ J =  \\int\\limits_a^b f(x)\\, dx \\approx I_{лев} = h \\cdot \\sum\\limits_{i = 0}^{N - 1} f_i$$\n",
    "\n",
    "Где $ N $ - число отрезков разбиения, $f_i$ - значение функции в точке $x_i$, $h$ - шаг сетки, если сетка является равномерной, то есть шаг везде одинаковый. Вычисляется по формуле  $$ h = \\frac{b - a}{N} $$\n",
    "\n",
    "Оценка погрешности:\n",
    "\n",
    "Если функция $f$ непрерывна и непрерывна дифференцируема на отрезке $[a, b]$, то справедлива следующая оценка погрешности\n",
    "\n",
    "$$ \\left|J - I_{лев}\\right| \\leq \\frac{M_1 (b-a)}{2} h$$\n",
    "\n",
    "где\n",
    "\n",
    "$$ M_1 = \\max_{[a, b]} \\left|f^{\\prime}(x)\\right|$$,\n",
    "\n",
    "Функция, заданная по условию удовлетворяет условию теоремы, поэтому мы можем применить оценку для погрешности и посчитать,\n",
    "необходимое число отрезков разбиения. Займемся этим"
   ]
  },
  {
   "cell_type": "markdown",
   "id": "09193c82",
   "metadata": {},
   "source": [
    "Производная заданной функции равна\n",
    "\n",
    "$$ P_m^{\\prime}(x) = \\sum\\limits_{i = 0}^{m} c_i \\cdot i x^{i - 1}$$"
   ]
  },
  {
   "cell_type": "code",
   "execution_count": 10,
   "id": "2a0f8689",
   "metadata": {},
   "outputs": [],
   "source": [
    "eps = 0.0001 # Заданная точность\n",
    "\n",
    "# Производная заданной функции\n",
    "def df(x : np.float64) -> np.float64:\n",
    "    df = 0\n",
    "    for i in range(len(c)):\n",
    "        df += c[i] * i * np.power(x, i - 1)\n",
    "    return df\n",
    "\n",
    "x = np.linspace(a, b, 1000)\n",
    "y = np.array(list(map(df, x)))\n",
    "min_y = np.max(y)\n",
    "max_y = np.min(y)\n",
    "m1 = max(abs(max_y), abs(min_y)) # Максимум первой производной"
   ]
  },
  {
   "cell_type": "code",
   "execution_count": 11,
   "id": "16778fa6",
   "metadata": {},
   "outputs": [
    {
     "name": "stdout",
     "output_type": "stream",
     "text": [
      "Число отрезков интегрирования =  1882000\n",
      "Шаг интегрирования =  1.0626992561105207e-06\n",
      "Wall time: 1.61 s\n"
     ]
    }
   ],
   "source": [
    "%%time \n",
    "# Оценка погрешности метода левых прямоугольников\n",
    "def errorMethodLeftRectangles(a, b, m1: np.float64, N : int) -> np.float64:\n",
    "    h = (b - a) / N\n",
    "    return (m1 * (b - a) * h) / 2\n",
    "N = 1\n",
    "# Запускаем цикл для расчета необходимого N\n",
    "while errorMethodLeftRectangles(a, b, m1, N) >= eps:\n",
    "    N += 1\n",
    "    \n",
    "h = (b - a) / N\n",
    "print(\"Число отрезков интегрирования = \", N)\n",
    "print(\"Шаг интегрирования = \", h)"
   ]
  },
  {
   "cell_type": "markdown",
   "id": "6532243f",
   "metadata": {},
   "source": [
    "Теперь займемся вычислением значения интеграла и найдем погрешность измерения, то есть найдем следующую разность\n",
    "$$ \\left|J - I_{лев}\\right| $$\n",
    "\n",
    "где $J$ - точное значение интеграла, $I_{лев}$ - значение интеграла полученное по формуле левых прямоугольников"
   ]
  },
  {
   "cell_type": "code",
   "execution_count": 12,
   "id": "385ee448",
   "metadata": {},
   "outputs": [
    {
     "name": "stdout",
     "output_type": "stream",
     "text": [
      "Значение интеграла по формуле левых прямоугольников:  -77.39994995126494\n",
      "Погрешность измерений с помощью формулы левых прямоугольников 5.0048735047880655e-05\n",
      "Wall time: 16 s\n",
      "Parser   : 106 ms\n"
     ]
    }
   ],
   "source": [
    "%%time\n",
    "# Значение интеграла, по формуле левых прямоугольник\n",
    "def MethodLeftRectangles(f, h : np.float64, N : int, a : np.float64) -> np.float64:\n",
    "    x_i = a\n",
    "    I_left = 0\n",
    "    for i in range(N):\n",
    "        I_left += f(x_i)\n",
    "        x_i += h\n",
    "    return I_left * h\n",
    "\n",
    "I_left = MethodLeftRectangles(f, h, N, a)\n",
    "print(\"Значение интеграла по формуле левых прямоугольников: \", I_left)\n",
    "print(\"Погрешность измерений с помощью формулы левых прямоугольников\", np.abs(I - I_left)[0])"
   ]
  },
  {
   "cell_type": "markdown",
   "id": "ff978b38",
   "metadata": {},
   "source": [
    "**Вывод:** Вычисление по формуле левых прямоугольников занимает крайне много времени. На подготовку вычисления шага интегрирования и числа отрезков интегрирования ушло примерно 2 секунды, и на сами вычисления примерно 17с. В общем на \n",
    "вычисление одного интеграла ушло целых 19 секунд"
   ]
  },
  {
   "cell_type": "markdown",
   "id": "828e07bb",
   "metadata": {},
   "source": [
    "## Вычисление интеграла по формуле трапеций"
   ]
  },
  {
   "cell_type": "markdown",
   "id": "135fa3a7",
   "metadata": {},
   "source": [
    "\n",
    "\n",
    "Формула индивидуального варианта - это формула трапеций\n",
    "\n",
    "Теоретическая справка про формулу трапеций\n",
    "\n",
    "Формула для вычисления:\n",
    "\n",
    "$$ J =  \\int\\limits_a^b f(x)\\, dx \\approx I_{тр} = h \\cdot \\left(\\frac{f_0 + f_N}{2} + \\sum\\limits_{i = 1}^{N - 1} f_i \\right)$$\n",
    "\n",
    "Где $J$ - точное значение интеграла, $ I_{тр} $ - приближенное значение по формуле трапеций, $ N $ - число отрезков разбиения, $f_i$ - значение функции в точке $x_i$, $h$ - шаг сетки, если сетка является равномерной, то есть шаг везде одинаковый. Вычисляется по формуле  $$ h = \\frac{b - a}{N} $$\n",
    "\n",
    "Оценка погрешности:\n",
    "\n",
    "Если функция $f$ непрерывна и дважды непрерывна дифференцируема на отрезке $[a, b]$, то справедлива следующая оценка погрешности\n",
    "\n",
    "$$ \\left|J - I_{тр}\\right| \\leq \\frac{M_2 (b-a)}{12} h^2$$\n",
    "\n",
    "где\n",
    "\n",
    "$$ M_2 = \\max_{[a, b]} \\left|f^{\\prime\\prime}(x)\\right|$$,\n",
    "\n",
    "Функция, заданная по условию удовлетворяет условию теоремы, поэтому мы можем применить оценку для погрешности и посчитать,\n",
    "необходимое число отрезков разбиения. Займемся этим"
   ]
  },
  {
   "cell_type": "markdown",
   "id": "ae8b8161",
   "metadata": {},
   "source": [
    "Вторая производная заданной функции равна\n",
    "\n",
    "$$ P_m^{\\prime\\prime}(x) = \\sum\\limits_{i = 0}^{m} c_i \\cdot i \\cdot (i - 1) \\cdot x^{i - 2} $$"
   ]
  },
  {
   "cell_type": "code",
   "execution_count": 33,
   "id": "71ef327b",
   "metadata": {},
   "outputs": [
    {
     "name": "stdout",
     "output_type": "stream",
     "text": [
      "m2 =  60.599999999999994\n",
      "m1 =  94.1\n"
     ]
    }
   ],
   "source": [
    "# Вторая производная заданной функций\n",
    "def df2(x: np.float64) -> np.float64:\n",
    "    df2 = 0\n",
    "    for i in range(len(c)):\n",
    "        df2 += c[i] * i * (i - 1) * np.power(x, i - 2)\n",
    "    return df2\n",
    "\n",
    "x = np.linspace(a, b, 1000)\n",
    "y = np.array(list(map(df2, x)))\n",
    "max_y = np.max(y)\n",
    "min_y = np.min(y)\n",
    "m2 = max(abs(max_y), abs(min_y)) # Максимум второй производной\n",
    "#print(\"m2 = \", m2)\n",
    "#print(\"m1 = \", m1)"
   ]
  },
  {
   "cell_type": "code",
   "execution_count": 36,
   "id": "dee94cc8",
   "metadata": {},
   "outputs": [
    {
     "name": "stdout",
     "output_type": "stream",
     "text": [
      "Число отрезков интегрирования =  636\n",
      "Шаг интегрирования =  0.0031446540880503146\n",
      "Wall time: 1.01 ms\n"
     ]
    }
   ],
   "source": [
    "%%time\n",
    "\n",
    "eps = 0.0001 # Заданная точность\n",
    "# Оценка погрешности метода трапеций\n",
    "def errorMethodTrapezes(a, b, m2: np.float64, N : int) -> np.float64:\n",
    "    h = (b - a) / N\n",
    "    return m2 * (b - a) * h**2 / 12\n",
    "\n",
    "N = 1\n",
    "# Запускаем цикл для расчета необходимого N\n",
    "while errorMethodTrapezes(a, b, m2, N) >= eps:\n",
    "    N += 1\n",
    "    \n",
    "h = (b - a) / N\n",
    "print(\"Число отрезков интегрирования = \", N)\n",
    "print(\"Шаг интегрирования = \", h)"
   ]
  },
  {
   "cell_type": "code",
   "execution_count": 42,
   "id": "54840a45",
   "metadata": {},
   "outputs": [
    {
     "name": "stdout",
     "output_type": "stream",
     "text": [
      "Значение интеграла по формуле левых прямоугольников:  -77.4000662552922\n",
      "Погрешность измерений с помощью формулы левых прямоугольников 6.625529221082616e-05\n",
      "Wall time: 6.96 ms\n"
     ]
    }
   ],
   "source": [
    "%%time\n",
    "# Значение интеграла, по формуле трапеций\n",
    "def MethodTrapezes(f, h: np.float64, N: int, a, b: np.float64) -> np.float64:\n",
    "    I_trapeze = (f(a) + f(b)) / 2\n",
    "    x_i = a\n",
    "    for i in range(1, N):\n",
    "        x_i += h\n",
    "        I_trapeze += f(x_i)\n",
    "    return I_trapeze * h\n",
    "\n",
    "I_trapeze = MethodTrapezes(f, h, N, a, b)\n",
    "print(\"Значение интеграла по формуле левых прямоугольников: \", I_trapeze)\n",
    "print(\"Погрешность измерений с помощью формулы левых прямоугольников\", np.abs(I - I_trapeze)[0])\n",
    "# np.abs(I - I_trapeze)[0] < eps"
   ]
  },
  {
   "cell_type": "markdown",
   "id": "ddd8ce53",
   "metadata": {},
   "source": [
    "**Вывод:** Формула трапеций показала себя намного более быстрее, чем формула левых прямоугольников. Она отработала почти моментально. Это еще раз подчеркивает, что формула трапеций имеет второй порядок точности, а формула левых прямоугольников первый порядок точности"
   ]
  },
  {
   "cell_type": "markdown",
   "id": "247af45e",
   "metadata": {},
   "source": [
    "## Вычисление интеграла, используя квадратуры Гаусса"
   ]
  },
  {
   "cell_type": "markdown",
   "id": "b68875b2",
   "metadata": {},
   "source": [
    "Запишем заданные многочлен в развернутом в виде \n",
    "\n",
    "$$ P_3(x) = 2,2 - 4,1x + 0,3x^2 - 3.4x^3 + 0 \\cdot x^4 + 0 \\cdot x^5 = 2,2 - 4,1x + 0,3x^2 - 3.4x^3 $$  \n",
    "\n",
    "Согласно общей теории квадратурные формулы Гаусса точны для многочленов степени $2N + 1$ при $ N + 1 $ узлах.\n",
    "То есть в нашем случае N = 2"
   ]
  },
  {
   "cell_type": "markdown",
   "id": "7d2237d3",
   "metadata": {},
   "source": [
    "Теперь займемся построением квадратурной формулы Гаууса с двумя узлами"
   ]
  },
  {
   "cell_type": "markdown",
   "id": "9ec240b1",
   "metadata": {},
   "source": [
    "$$\\int\\limits_{-1}^{1} f(t)\\,dt = a_0 f(t_0) + a_1 f(t_1)$$"
   ]
  },
  {
   "cell_type": "markdown",
   "id": "e5ec8af2",
   "metadata": {},
   "source": [
    "Имеем 4 неизвестные $t_0$, $t_1$, $a_0$, $a_1$, то есть следует взять 4 базисные функции $1$, $t$, $t^2$, $t^3$"
   ]
  },
  {
   "cell_type": "markdown",
   "id": "3f42438f",
   "metadata": {},
   "source": [
    "Тогда получаем следующую систему уравнений"
   ]
  },
  {
   "cell_type": "markdown",
   "id": "f3065b9f",
   "metadata": {},
   "source": [
    "\\begin{cases}\n",
    "a_0 + a_1 = \\int\\limits_{-1}^{1} 1\\, dt \\\\\n",
    "a_0 t_0 + a_1 t_1 = \\int\\limits_{-1}^{1} t, dt \\\\\n",
    "a_0 t_0^2 + a_1 t_1^2 = \\int\\limits_{-1}^{1} t^2, dt \\\\\n",
    "a_0 t_0^3 + a_1 t_1^3 = \\int\\limits_{-1}^{1} t^3, dt \\\\\n",
    "\\end{cases}"
   ]
  },
  {
   "cell_type": "markdown",
   "id": "1b95aec1",
   "metadata": {},
   "source": [
    "Вычислим в заданной системе интегралы"
   ]
  },
  {
   "cell_type": "markdown",
   "id": "41986418",
   "metadata": {},
   "source": [
    "$$ \\int\\limits_{-1}^{1} 1\\, dt = 1 - (-1) = 2 $$\n",
    "\n",
    "$$  \\int\\limits_{-1}^{1} t, dt = \\frac{t^2}{2}\\bigg|_{-1}^1 = \\frac{1}{2} - \\frac{1}{2} = 0 $$\n",
    "\n",
    "$$  \\int\\limits_{-1}^{1} t^2, dt = \\frac{t^3}{3}\\bigg|_{-1}^1 = \\frac{1}{3} + \\frac{1}{3} = \\frac{2}{3} $$\n",
    "\n",
    "$$  \\int\\limits_{-1}^{1} t^3, dt = \\frac{t^4}{4}\\bigg|_{-1}^1 = \\frac{1}{4} - \\frac{1}{4} = 0 $$"
   ]
  },
  {
   "cell_type": "markdown",
   "id": "bfaa7f95",
   "metadata": {},
   "source": [
    "Получим тогда следующую систему уравнений"
   ]
  },
  {
   "cell_type": "markdown",
   "id": "1ac33b84",
   "metadata": {},
   "source": [
    "\\begin{cases}\n",
    "a_0 + a_1 = 2 \\\\\n",
    "a_0 t_0 + a_1 t_1 = 0 \\\\\n",
    "a_0 t_0^2 + a_1 t_1^2 = \\frac{2}{3} \\\\\n",
    "a_0 t_0^3 + a_1 t_1^3 = 0 \\\\\n",
    "\\end{cases}"
   ]
  },
  {
   "cell_type": "markdown",
   "id": "1da2ca8d",
   "metadata": {},
   "source": [
    "Решив эту систему получим следующим значения\n",
    "\n",
    "\\begin{cases}\n",
    "a_0 = 1  \\\\\n",
    "a_1 = 1 \\\\\n",
    "t_0 = -\\frac{1}{\\sqrt{3}} \\\\\n",
    "t_1 = \\frac{1}{\\sqrt{3}} \\\\\n",
    "\\end{cases}"
   ]
  },
  {
   "cell_type": "markdown",
   "id": "383a53f6",
   "metadata": {},
   "source": [
    "Тогда получаем следующую квадратурную формулу Гаусса с двумя узлами"
   ]
  },
  {
   "cell_type": "markdown",
   "id": "6f3cb919",
   "metadata": {},
   "source": [
    "$$\\int\\limits_{-1}^{1} f(t)\\,dt = f\\left(-\\frac{1}{\\sqrt{3}}\\right) + f\\left(\\frac{1}{\\sqrt{3}}\\right)$$"
   ]
  },
  {
   "cell_type": "markdown",
   "id": "3561f7ae",
   "metadata": {},
   "source": [
    "Теперь, чтобы перейти к произвольному отрезку $ [a, b] $ проделаем следующую замену"
   ]
  },
  {
   "cell_type": "markdown",
   "id": "a73e381e",
   "metadata": {},
   "source": [
    "$$ x = \\frac{a + b}{2} + \\frac{b - a}{2}t $$\n",
    "\n",
    "$$ x(-1) = \\frac{a + b}{2} - \\frac{b - a}{2} = a $$\n",
    "\n",
    "$$ x(1) = \\frac{a + b}{2} + \\frac{b - a}{2} = b$$\n",
    "\n",
    "Взяв дифференциал получим следующее\n",
    "\n",
    "$$ dx = \\frac{b - a}{2}dt $$\n",
    "\n",
    "То есть \n",
    "\n",
    "$$ dt = \\frac{2}{b-a}dx $$"
   ]
  },
  {
   "cell_type": "markdown",
   "id": "3c99cf7a",
   "metadata": {},
   "source": [
    "Тогда получаем следующую формулу"
   ]
  },
  {
   "cell_type": "markdown",
   "id": "21d85ec6",
   "metadata": {},
   "source": [
    "$$ \\int\\limits_{a}^{b} f(t)\\, dt =  \\frac{b - a}{2} \\left(f\\left(\\frac{a + b}{2} + \\frac{b - a}{2} \\cdot \\left(-\\frac{1}{\\sqrt{3}}\\right)\\right) +  f\\left(\\frac{a + b}{2} + \\frac{b - a}{2} \\cdot \\frac{1}{\\sqrt{3}}\\right) \\right)$$"
   ]
  },
  {
   "cell_type": "markdown",
   "id": "e122d7dc",
   "metadata": {},
   "source": [
    "Подставив наши значения $a = 1$ и $b = 3$. Получим следующую формулу"
   ]
  },
  {
   "cell_type": "markdown",
   "id": "e2198d39",
   "metadata": {},
   "source": [
    "$$ \\int\\limits_{1}^{3} f(t)\\, dt = f\\left(2 - \\frac{1}{\\sqrt{3}}\\right) + f\\left(2 + \\frac{1}{\\sqrt{3}}\\right) $$"
   ]
  },
  {
   "cell_type": "markdown",
   "id": "84ad4ea2",
   "metadata": {},
   "source": [
    "Подставим данные значения в данный многочлен. Получим"
   ]
  },
  {
   "cell_type": "code",
   "execution_count": 30,
   "id": "f1be787b",
   "metadata": {},
   "outputs": [
    {
     "name": "stdout",
     "output_type": "stream",
     "text": [
      "Точное значениие интеграла =  -77.39999999999999\n",
      "Значение интеграла используя квадратуры Гаусса =  -77.39999999999999\n"
     ]
    }
   ],
   "source": [
    "I_gauss = f(2 - 1/np.sqrt(3)) + f(2 + 1/np.sqrt(3))\n",
    "print(\"Точное значениие интеграла = \", I[0])\n",
    "print(\"Значение интеграла используя квадратуры Гаусса = \", I_gauss)"
   ]
  },
  {
   "cell_type": "markdown",
   "id": "75e77f12",
   "metadata": {},
   "source": [
    "Получили, что точное значение интеграла совпало со значением интеграла, вычисленного по квадратуре Гаусса"
   ]
  },
  {
   "cell_type": "markdown",
   "id": "4f9a5e74",
   "metadata": {},
   "source": [
    "**Вывод:** данный пример показывает точность вычисления по квадратуре Гаусса применительно к многочленам"
   ]
  },
  {
   "cell_type": "markdown",
   "id": "c8a0abc3",
   "metadata": {},
   "source": [
    "## Задание 5.2"
   ]
  },
  {
   "cell_type": "markdown",
   "id": "b0f03cd4",
   "metadata": {},
   "source": [
    "Вычислить интеграл $ I = \\int\\limits_{0}^{1.7}\\frac{5sin(3x)}{x}\\, dx $ с заданной точностью $ \\varepsilon = 10^{-12} $"
   ]
  },
  {
   "cell_type": "markdown",
   "id": "d45ef1f6",
   "metadata": {},
   "source": [
    "Вычисление интеграла с помощью средств пакета Python"
   ]
  },
  {
   "cell_type": "code",
   "execution_count": 2,
   "id": "dcf5469d",
   "metadata": {},
   "outputs": [
    {
     "name": "stdout",
     "output_type": "stream",
     "text": [
      "Значение интеграла, вычисленнное с помощью средств пакета Python:  -19.97993729138808\n"
     ]
    }
   ],
   "source": [
    "a = 3\n",
    "eps = 10e-12\n",
    "b = 5\n",
    "def f(x):\n",
    "    return np.exp(x) * np.sin(2 * 3.14 * x)\n",
    "\n",
    "I = integrate.quad(f, a, b, epsabs = 10e-14, epsrel = 10e-14)[0]\n",
    "print(\"Значение интеграла, вычисленнное с помощью средств пакета Python: \", I)"
   ]
  },
  {
   "cell_type": "markdown",
   "id": "7c797cb5",
   "metadata": {},
   "source": [
    "Функция, вычисляющая интеграл по формуле трапеций с заданным шагом $h$. Теоретическая справка по формуле трапеций была написана в задаче 5.1"
   ]
  },
  {
   "cell_type": "code",
   "execution_count": 3,
   "id": "24d47362",
   "metadata": {},
   "outputs": [],
   "source": [
    "# метод трапеций с заданным шагом\n",
    "def methodTrap(f, h, a, b, N):\n",
    "    I_trap = (f(a) + f(b)) / 2\n",
    "    x_i = a\n",
    "    for i in range(1, N):\n",
    "        x_i += h\n",
    "        I_trap += f(x_i)\n",
    "    return I_trap * h"
   ]
  },
  {
   "cell_type": "markdown",
   "id": "7eee8d5b",
   "metadata": {},
   "source": [
    "Функция, вычисляющая значение интеграла с заданной точностью $ \\varepsilon $. Оценка погрешности производится по правилу Рунге.\n",
    "\n",
    "Для начала напишем краткую теоретическую справку про правило Рунге\n",
    "\n",
    "Пусть $J$ - точное значение интеграла, $ I^{(h)} $ - значение интеграла, вычисленное по квадратурной формуле с постоянным шагом \n",
    "$h$. Тогда справедлива следующая оценка\n",
    "\n",
    "$$ J - I^{(h)} \\approx \\frac{I^{h} - I^{(2h)}}{2^p - 1} $$\n",
    "\n",
    "Где, $ p $ - это порядок точности метода\n",
    "\n",
    "Метод трапеций имеет порядок точности $ p = 2$\n",
    "\n",
    "Имея необходимый теоретический материала напишем нужную функцию"
   ]
  },
  {
   "cell_type": "code",
   "execution_count": 4,
   "id": "b5946097",
   "metadata": {},
   "outputs": [],
   "source": [
    "# вычисление интеграла с заданной точностью, используя для расчета погрешности правило Рунге\n",
    "def calcucaleIntegralWithCurrError(f, a, b, eps):\n",
    "    N1 = 2\n",
    "    h = (b - a) / N1\n",
    "    p = 2 # Порядок точности метода Трапеций\n",
    "    I_h = methodTrap(f, h, a, b, N1)\n",
    "    I_2h = methodTrap(f, 2 * h, a, b, N1 // 2)\n",
    "    while abs(I_h - I_2h) / (2**p - 1) > eps:\n",
    "        N1 *= 2\n",
    "        h = (b - a) / N1\n",
    "        I_2h = I_h\n",
    "        I_h = methodTrap(f, h, a, b, N1)\n",
    "    return I_h, h, N1"
   ]
  },
  {
   "cell_type": "markdown",
   "id": "e229e5ab",
   "metadata": {},
   "source": [
    "Вычислим с помощью заданной функции значение интеграла"
   ]
  },
  {
   "cell_type": "code",
   "execution_count": 5,
   "id": "90cf8e6b",
   "metadata": {},
   "outputs": [
    {
     "name": "stdout",
     "output_type": "stream",
     "text": [
      "Значение интеграла с заданной точностью:  -19.979937291384278\n",
      "Число отрезков разбиения:  8388608\n",
      "Шаг отрезков:  2.384185791015625e-07\n",
      "Wall time: 1min 17s\n"
     ]
    }
   ],
   "source": [
    "%%time\n",
    "I_trap, h_trap, n_trap = calcucaleIntegralWithCurrError(f, a, b, eps)\n",
    "print(\"Значение интеграла с заданной точностью: \", I_trap)\n",
    "print(\"Число отрезков разбиения: \", n_trap)\n",
    "print(\"Шаг отрезков: \", h_trap)"
   ]
  },
  {
   "cell_type": "markdown",
   "id": "7ea5e9b8",
   "metadata": {},
   "source": [
    "Теперь выполним уточнение по Ричардсону данного интеграла\n",
    "\n",
    "Напишем краткую теоретическую справку про уточнение по Ричардсону\n",
    "\n",
    "Уточнением по Ричардсону называют следующую формулу\n",
    "\n",
    "$$ I^{(уточн)} \\approx I^{(h)} +  \\frac{I^{h} - I^{(2h)}}{2^p - 1} $$\n",
    "\n",
    "Где, $h$ - шаг отрезков интегрирования,\n",
    "$ I^{(h)} $ - интеграл, вычисленный по квадратурной формуле с шагом $h$,\n",
    "$ I^{(2h)} $ - интеграл, вычисленный по квадратурной формуле с шагом $2h$,\n",
    "$ p $ - порядок точности формулы\n",
    "\n",
    "В случае формулы трапеции порядок точности равен $p = 2$\n",
    "\n",
    "Имея необходимую теорию напишем нужную программу"
   ]
  },
  {
   "cell_type": "code",
   "execution_count": 7,
   "id": "6e901004",
   "metadata": {},
   "outputs": [
    {
     "name": "stdout",
     "output_type": "stream",
     "text": [
      "Значение уточненного интеграла:  -19.979937291388342\n"
     ]
    }
   ],
   "source": [
    "p = 2 # Порядок точности метода трапеций\n",
    "I_trap_2h = methodTrap(f, 2 * h_trap, a, b, n_trap // 2)\n",
    "I_clar = I_trap + (I_trap - I_trap_2h) / (2**p - 1)\n",
    "print(\"Значение уточненного интеграла: \", I_clar)"
   ]
  },
  {
   "cell_type": "markdown",
   "id": "d8dcf99e",
   "metadata": {},
   "source": [
    "Теперь посчитаем погрешности при вычисления интеграла без уточнения и с уточнением"
   ]
  },
  {
   "cell_type": "code",
   "execution_count": 10,
   "id": "98e35350",
   "metadata": {},
   "outputs": [
    {
     "name": "stdout",
     "output_type": "stream",
     "text": [
      "Значение интеграла, вычисленного без уточнения:  3.801403636316536e-12\n",
      "Значение интеграла, вычисленного с уточнением:  2.6290081223123707e-13\n"
     ]
    }
   ],
   "source": [
    "R_without_clar = abs(I - I_trap)\n",
    "R_with_clar = abs(I - I_clar)\n",
    "print(\"Значение интеграла, вычисленного без уточнения: \", R_without_clar)\n",
    "print(\"Значение интеграла, вычисленного с уточнением: \", R_with_clar)"
   ]
  },
  {
   "cell_type": "markdown",
   "id": "4c498f65",
   "metadata": {},
   "source": [
    "Теперь напишем все сводную таблицу"
   ]
  },
  {
   "cell_type": "markdown",
   "id": "77f7c018",
   "metadata": {},
   "source": [
    "**Число отрезков интегрирования** | **Значение интеграла без уточнения** | **Значение интеграла с уточнением** | **Погрешность без уточнения** | **Погрешность с уточнением**\n",
    "--- | --- | --- | --- | ---\n",
    "$ 8388608 $ |  $-19.979937291384278$ | $-19.979937291388342$ | $4 \\cdot 10^{-12}$ | $ 3 \\cdot 10^{-13} $"
   ]
  },
  {
   "cell_type": "markdown",
   "id": "78ce6dfb",
   "metadata": {},
   "source": [
    "**Вывод:** По таблице видно, что мы получили более точное значение интеграла, используя формулу с уточнением. Следовательно, формула уточнения позволяет нам уточнить уже найденное значение интеграла не прибегая к увеличению отрезков интегрирования"
   ]
  }
 ],
 "metadata": {
  "kernelspec": {
   "display_name": "Python 3 (ipykernel)",
   "language": "python",
   "name": "python3"
  },
  "language_info": {
   "codemirror_mode": {
    "name": "ipython",
    "version": 3
   },
   "file_extension": ".py",
   "mimetype": "text/x-python",
   "name": "python",
   "nbconvert_exporter": "python",
   "pygments_lexer": "ipython3",
   "version": "3.9.7"
  }
 },
 "nbformat": 4,
 "nbformat_minor": 5
}
